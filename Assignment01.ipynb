{
 "cells": [
  {
   "cell_type": "markdown",
   "metadata": {},
   "source": [
    "# Assignment 01: Multi-class Classification \n",
    "In this Assignment, you will train a deep model on the CIFAR10 from the scratch using PyTorch."
   ]
  },
  {
   "cell_type": "markdown",
   "metadata": {},
   "source": [
    "### Basic Imports"
   ]
  },
  {
   "cell_type": "code",
   "execution_count": 1,
   "metadata": {
    "jupyter": {
     "source_hidden": true
    }
   },
   "outputs": [],
   "source": [
    "import os\n",
    "import time\n",
    "import os.path as osp\n",
    "\n",
    "import numpy as np\n",
    "import pandas as pd\n",
    "\n",
    "import torch\n",
    "import torch.nn as nn\n",
    "import torch.nn.functional as F\n",
    "import torch.optim as optim\n",
    "from torch.utils.data import DataLoader\n",
    "\n",
    "from torchvision import datasets\n",
    "from torchvision import transforms\n",
    "import torchvision\n",
    "\n",
    "import matplotlib.pyplot as plt\n",
    "from PIL import Image"
   ]
  },
  {
   "cell_type": "markdown",
   "metadata": {},
   "source": [
    "### Hyperparameters"
   ]
  },
  {
   "cell_type": "code",
   "execution_count": 2,
   "metadata": {},
   "outputs": [],
   "source": [
    "# random seed\n",
    "SEED = 1 \n",
    "NUM_CLASS = 10\n",
    "\n",
    "# Training\n",
    "BATCH_SIZE = 128\n",
    "NUM_EPOCHS = 100\n",
    "EVAL_INTERVAL=1\n",
    "SAVE_DIR = './log'\n",
    "\n",
    "# Optimizer\n",
    "LEARNING_RATE = 1e-3\n",
    "MOMENTUM = 0.9\n",
    "STEP=5\n",
    "GAMMA=0.5\n"
   ]
  },
  {
   "cell_type": "markdown",
   "metadata": {},
   "source": [
    "### Device"
   ]
  },
  {
   "cell_type": "code",
   "execution_count": 3,
   "metadata": {},
   "outputs": [],
   "source": [
    "device = torch.device(\"cuda:0\" if torch.cuda.is_available() else \"cpu\")"
   ]
  },
  {
   "cell_type": "markdown",
   "metadata": {},
   "source": [
    "\n",
    "### Dataset\n"
   ]
  },
  {
   "cell_type": "code",
   "execution_count": 4,
   "metadata": {
    "jupyter": {
     "source_hidden": true
    }
   },
   "outputs": [
    {
     "name": "stdout",
     "output_type": "stream",
     "text": [
      "Files already downloaded and verified\n",
      "Files already downloaded and verified\n"
     ]
    }
   ],
   "source": [
    "# cifar10 transform\n",
    "transform_cifar10_train = transforms.Compose([\n",
    "    transforms.RandomCrop(32, padding=4),\n",
    "    transforms.RandomHorizontalFlip(),\n",
    "    transforms.ToTensor(),\n",
    "    transforms.Normalize((0.4914, 0.4822, 0.4465), (0.2023, 0.1994, 0.2010)),\n",
    "])\n",
    "\n",
    "transform_cifar10_test = transforms.Compose([\n",
    "    transforms.ToTensor(),\n",
    "    transforms.Normalize((0.4914, 0.4822, 0.4465), (0.2023, 0.1994, 0.2010)),\n",
    "])\n",
    "\n",
    "train_set = torchvision.datasets.CIFAR10(root='../data', train=True,\n",
    "                                        download=True, transform=transform_cifar10_train)\n",
    "train_dataloader = torch.utils.data.DataLoader(train_set, batch_size=BATCH_SIZE,\n",
    "                                          shuffle=True, num_workers=2)\n",
    "\n",
    "test_set = torchvision.datasets.CIFAR10(root='../data', train=False,\n",
    "                                       download=True, transform=transform_cifar10_test)\n",
    "test_dataloader = torch.utils.data.DataLoader(test_set, batch_size=BATCH_SIZE,\n",
    "                                         shuffle=False, num_workers=2)\n",
    "\n",
    "class_names = ['airplane', 'automobile', 'bird', 'cat', 'deer', 'dog', 'frog', 'horse', 'ship', 'truck']\n"
   ]
  },
  {
   "cell_type": "markdown",
   "metadata": {},
   "source": [
    "### Model"
   ]
  },
  {
   "cell_type": "code",
   "execution_count": 5,
   "metadata": {
    "jupyter": {
     "source_hidden": true
    }
   },
   "outputs": [],
   "source": [
    "class ConvNet(nn.Module):\n",
    "    def __init__(self):\n",
    "        super(ConvNet, self).__init__()\n",
    "        self.conv1 = nn.Conv2d(3, 4, 3)  \n",
    "        self.pool = nn.MaxPool2d(2, 2)\n",
    "        self.conv2 = nn.Conv2d(4, 8, 3)  \n",
    "        self.fc1 = nn.Linear(8 * 6 * 6, 32)\n",
    "        self.fc2 = nn.Linear(32, 10)\n",
    "\n",
    "    def forward(self, x):\n",
    "        x = self.pool(torch.relu(self.conv1(x)))\n",
    "        x = self.pool(torch.relu(self.conv2(x)))\n",
    "        x = x.view(-1, 8 * 6 * 6)\n",
    "        x = torch.relu(self.fc1(x))\n",
    "        x = self.fc2(x)\n",
    "        return x"
   ]
  },
  {
   "cell_type": "code",
   "execution_count": 6,
   "metadata": {
    "jupyter": {
     "source_hidden": true
    }
   },
   "outputs": [
    {
     "data": {
      "text/plain": [
       "ConvNet(\n",
       "  (conv1): Conv2d(3, 4, kernel_size=(3, 3), stride=(1, 1))\n",
       "  (pool): MaxPool2d(kernel_size=2, stride=2, padding=0, dilation=1, ceil_mode=False)\n",
       "  (conv2): Conv2d(4, 8, kernel_size=(3, 3), stride=(1, 1))\n",
       "  (fc1): Linear(in_features=288, out_features=32, bias=True)\n",
       "  (fc2): Linear(in_features=32, out_features=10, bias=True)\n",
       ")"
      ]
     },
     "execution_count": 6,
     "metadata": {},
     "output_type": "execute_result"
    }
   ],
   "source": [
    "model = ConvNet()\n",
    "model.to(device)"
   ]
  },
  {
   "cell_type": "markdown",
   "metadata": {},
   "source": [
    "### Optimizer"
   ]
  },
  {
   "cell_type": "code",
   "execution_count": 7,
   "metadata": {
    "jupyter": {
     "source_hidden": true
    }
   },
   "outputs": [],
   "source": [
    "optimizer = optim.SGD(model.parameters(), lr=LEARNING_RATE, momentum=MOMENTUM)\n",
    "\n",
    "scheduler = torch.optim.lr_scheduler.StepLR(optimizer, step_size=STEP, gamma=GAMMA)"
   ]
  },
  {
   "cell_type": "markdown",
   "metadata": {},
   "source": [
    "### Task 1: per batch training/testing\n",
    "---\n",
    "\n",
    "Please denfine two function named ``train_batch`` and ``test_batch``. These functions are essential for training and evaluating machine learning models using batched data from dataloaders.\n",
    "\n",
    "**To do**: \n",
    "1. Define the loss function i.e [nn.CrossEntropyLoss()](https://pytorch.org/docs/stable/generated/torch.nn.CrossEntropyLoss.html).\n",
    "2. Take the image as the input and generate the output using the pre-defined SimpleNet.\n",
    "3. Calculate the loss between the output and the corresponding label using the loss function."
   ]
  },
  {
   "cell_type": "markdown",
   "metadata": {},
   "source": [
    "### One-Hot Encoding"
   ]
  },
  {
   "cell_type": "code",
   "execution_count": 8,
   "metadata": {
    "jupyter": {
     "source_hidden": true
    }
   },
   "outputs": [],
   "source": [
    "def one_hot_encoding(target, num_classes):\n",
    "    return F.one_hot(target, num_classes=num_classes).float()"
   ]
  },
  {
   "cell_type": "markdown",
   "metadata": {},
   "source": [
    "### Focal Loss Function"
   ]
  },
  {
   "cell_type": "code",
   "execution_count": 9,
   "metadata": {},
   "outputs": [],
   "source": [
    "class FocalLoss(nn.Module):\n",
    "    def __init__(self, gamma=2.0, alpha=1.0):\n",
    "        super(FocalLoss, self).__init__()\n",
    "        self.gamma = gamma\n",
    "        self.alpha = alpha\n",
    "\n",
    "    def forward(self, y_pred, y_true):\n",
    "        \"\"\"\n",
    "        y_pred: raw scores (logits) for each class. [batch_size, num_classes]\n",
    "        y_true: ground truth labels. [batch_size]\n",
    "        \"\"\"\n",
    "        # Convert y_true labels into one-hot encoding\n",
    "        y_true_onehot = torch.zeros(y_pred.size(), device=y_pred.device).scatter_(1, y_true.unsqueeze(1).long(), 1)\n",
    "        \n",
    "        # Calculate softmax over y_pred for calculating probabilities\n",
    "        probs = F.softmax(y_pred, dim=1)\n",
    "        \n",
    "        # Calculate focal loss\n",
    "        focal_loss = -self.alpha * (y_true_onehot * torch.log(probs) * (1 - probs) ** self.gamma).sum(dim=1).mean()\n",
    "        \n",
    "        return focal_loss"
   ]
  },
  {
   "cell_type": "markdown",
   "metadata": {},
   "source": [
    "### Loss Function define"
   ]
  },
  {
   "cell_type": "code",
   "execution_count": 10,
   "metadata": {},
   "outputs": [],
   "source": [
    "##################### Write your answer here ##################\n",
    "# Define the loss function\n",
    "#criterion = nn.CrossEntropyLoss()\n",
    "criterion = FocalLoss()\n",
    "#criterion = nn.L1Loss()\n",
    "lossfunction = 'epo100FC201'\n",
    "###############################################################"
   ]
  },
  {
   "cell_type": "code",
   "execution_count": 11,
   "metadata": {
    "jupyter": {
     "source_hidden": true
    }
   },
   "outputs": [],
   "source": [
    "def train_batch(model, image, target):\n",
    "    \"\"\"\n",
    "    Perform one training batch iteration.\n",
    "\n",
    "    Args:\n",
    "        model (torch.nn.Module): The machine learning model to train.\n",
    "        image (torch.Tensor): Batch of input data (images).\n",
    "        target (torch.Tensor): Batch of target labels.\n",
    "\n",
    "    Returns:\n",
    "        torch.Tensor: Model output (predictions) for the batch.\n",
    "        torch.Tensor: Loss value calculated by the defined loss function loss_fn().\n",
    "    \"\"\"\n",
    "    \n",
    "    ##################### Write your answer here ##################\n",
    "    output = model(image)\n",
    "    loss = criterion(output, target)\n",
    "    ###############################################################\n",
    "\n",
    "    return output, loss"
   ]
  },
  {
   "cell_type": "code",
   "execution_count": 12,
   "metadata": {
    "jupyter": {
     "source_hidden": true
    }
   },
   "outputs": [],
   "source": [
    "\n",
    "def test_batch(model, image, target):\n",
    "    \"\"\"\n",
    "    Perform one testing batch iteration.\n",
    "\n",
    "    Args:\n",
    "        model (torch.nn.Module): The machine learning model to evaluate.\n",
    "        image (torch.Tensor): Batch of input data (images).\n",
    "        target (torch.Tensor): Batch of target labels.\n",
    "\n",
    "    Returns:\n",
    "        torch.Tensor: Model output (predictions) for the batch.\n",
    "        torch.Tensor: Loss value calculated for the batch.\n",
    "    \"\"\"\n",
    "\n",
    "    ##################### Write your answer here ##################\n",
    "    output = model(image)\n",
    "    loss = criterion(output, target)\n",
    "    ###############################################################\n",
    "\n",
    "    return output, loss"
   ]
  },
  {
   "cell_type": "markdown",
   "metadata": {},
   "source": [
    "### Model Training"
   ]
  },
  {
   "cell_type": "code",
   "execution_count": 13,
   "metadata": {},
   "outputs": [
    {
     "name": "stdout",
     "output_type": "stream",
     "text": [
      "Epoch: 1/100 Train Loss: 0.0139 Acc: 0.1611\n",
      "Begin test......\n",
      "Test Loss: 0.0130 Acc: 0.2127\n",
      "Epoch: 2/100 Train Loss: 0.0124 Acc: 0.2502\n",
      "Begin test......\n",
      "Test Loss: 0.0117 Acc: 0.2910\n",
      "Epoch: 3/100 Train Loss: 0.0116 Acc: 0.2886\n",
      "Begin test......\n",
      "Test Loss: 0.0109 Acc: 0.3346\n",
      "Epoch: 4/100 Train Loss: 0.0109 Acc: 0.3208\n",
      "Begin test......\n",
      "Test Loss: 0.0103 Acc: 0.3598\n",
      "Epoch: 5/100 Train Loss: 0.0104 Acc: 0.3433\n",
      "Begin test......\n",
      "Test Loss: 0.0097 Acc: 0.3797\n",
      "Epoch: 6/100 Train Loss: 0.0100 Acc: 0.3548\n",
      "Begin test......\n",
      "Test Loss: 0.0095 Acc: 0.3913\n",
      "Epoch: 7/100 Train Loss: 0.0098 Acc: 0.3618\n",
      "Begin test......\n",
      "Test Loss: 0.0094 Acc: 0.3999\n",
      "Epoch: 8/100 Train Loss: 0.0097 Acc: 0.3702\n",
      "Begin test......\n",
      "Test Loss: 0.0091 Acc: 0.4034\n",
      "Epoch: 9/100 Train Loss: 0.0095 Acc: 0.3771\n",
      "Begin test......\n",
      "Test Loss: 0.0089 Acc: 0.4213\n",
      "Epoch: 10/100 Train Loss: 0.0093 Acc: 0.3816\n",
      "Begin test......\n",
      "Test Loss: 0.0087 Acc: 0.4247\n",
      "Epoch: 11/100 Train Loss: 0.0092 Acc: 0.3887\n",
      "Begin test......\n",
      "Test Loss: 0.0086 Acc: 0.4278\n",
      "Epoch: 12/100 Train Loss: 0.0091 Acc: 0.3916\n",
      "Begin test......\n",
      "Test Loss: 0.0086 Acc: 0.4331\n",
      "Epoch: 13/100 Train Loss: 0.0091 Acc: 0.3979\n",
      "Begin test......\n",
      "Test Loss: 0.0085 Acc: 0.4366\n",
      "Epoch: 14/100 Train Loss: 0.0090 Acc: 0.3987\n",
      "Begin test......\n",
      "Test Loss: 0.0084 Acc: 0.4430\n",
      "Epoch: 15/100 Train Loss: 0.0090 Acc: 0.4029\n",
      "Begin test......\n",
      "Test Loss: 0.0083 Acc: 0.4456\n",
      "Epoch: 16/100 Train Loss: 0.0089 Acc: 0.4063\n",
      "Begin test......\n",
      "Test Loss: 0.0083 Acc: 0.4432\n",
      "Epoch: 17/100 Train Loss: 0.0088 Acc: 0.4071\n",
      "Begin test......\n",
      "Test Loss: 0.0083 Acc: 0.4491\n",
      "Epoch: 18/100 Train Loss: 0.0088 Acc: 0.4093\n",
      "Begin test......\n",
      "Test Loss: 0.0083 Acc: 0.4470\n",
      "Epoch: 19/100 Train Loss: 0.0088 Acc: 0.4111\n",
      "Begin test......\n",
      "Test Loss: 0.0082 Acc: 0.4510\n",
      "Epoch: 20/100 Train Loss: 0.0088 Acc: 0.4110\n",
      "Begin test......\n",
      "Test Loss: 0.0082 Acc: 0.4529\n",
      "Epoch: 21/100 Train Loss: 0.0087 Acc: 0.4136\n",
      "Begin test......\n",
      "Test Loss: 0.0082 Acc: 0.4524\n",
      "Epoch: 22/100 Train Loss: 0.0087 Acc: 0.4130\n",
      "Begin test......\n",
      "Test Loss: 0.0081 Acc: 0.4541\n",
      "Epoch: 23/100 Train Loss: 0.0087 Acc: 0.4161\n",
      "Begin test......\n",
      "Test Loss: 0.0081 Acc: 0.4562\n",
      "Epoch: 24/100 Train Loss: 0.0087 Acc: 0.4160\n",
      "Begin test......\n",
      "Test Loss: 0.0081 Acc: 0.4567\n",
      "Epoch: 25/100 Train Loss: 0.0087 Acc: 0.4158\n",
      "Begin test......\n",
      "Test Loss: 0.0081 Acc: 0.4570\n",
      "Epoch: 26/100 Train Loss: 0.0087 Acc: 0.4179\n",
      "Begin test......\n",
      "Test Loss: 0.0081 Acc: 0.4568\n",
      "Epoch: 27/100 Train Loss: 0.0087 Acc: 0.4168\n",
      "Begin test......\n",
      "Test Loss: 0.0081 Acc: 0.4542\n",
      "Epoch: 28/100 Train Loss: 0.0087 Acc: 0.4176\n",
      "Begin test......\n",
      "Test Loss: 0.0081 Acc: 0.4582\n",
      "Epoch: 29/100 Train Loss: 0.0087 Acc: 0.4156\n",
      "Begin test......\n",
      "Test Loss: 0.0081 Acc: 0.4573\n",
      "Epoch: 30/100 Train Loss: 0.0086 Acc: 0.4172\n",
      "Begin test......\n",
      "Test Loss: 0.0081 Acc: 0.4587\n",
      "Epoch: 31/100 Train Loss: 0.0087 Acc: 0.4169\n",
      "Begin test......\n",
      "Test Loss: 0.0081 Acc: 0.4598\n",
      "Epoch: 32/100 Train Loss: 0.0086 Acc: 0.4182\n",
      "Begin test......\n",
      "Test Loss: 0.0081 Acc: 0.4597\n",
      "Epoch: 33/100 Train Loss: 0.0086 Acc: 0.4192\n",
      "Begin test......\n",
      "Test Loss: 0.0081 Acc: 0.4608\n",
      "Epoch: 34/100 Train Loss: 0.0086 Acc: 0.4202\n",
      "Begin test......\n",
      "Test Loss: 0.0080 Acc: 0.4597\n",
      "Epoch: 35/100 Train Loss: 0.0086 Acc: 0.4193\n",
      "Begin test......\n",
      "Test Loss: 0.0080 Acc: 0.4606\n",
      "Epoch: 36/100 Train Loss: 0.0086 Acc: 0.4195\n",
      "Begin test......\n",
      "Test Loss: 0.0080 Acc: 0.4603\n",
      "Epoch: 37/100 Train Loss: 0.0086 Acc: 0.4198\n",
      "Begin test......\n",
      "Test Loss: 0.0080 Acc: 0.4602\n",
      "Epoch: 38/100 Train Loss: 0.0086 Acc: 0.4188\n",
      "Begin test......\n",
      "Test Loss: 0.0080 Acc: 0.4608\n",
      "Epoch: 39/100 Train Loss: 0.0086 Acc: 0.4181\n",
      "Begin test......\n",
      "Test Loss: 0.0080 Acc: 0.4603\n",
      "Epoch: 40/100 Train Loss: 0.0086 Acc: 0.4233\n",
      "Begin test......\n",
      "Test Loss: 0.0080 Acc: 0.4612\n",
      "Epoch: 41/100 Train Loss: 0.0086 Acc: 0.4216\n",
      "Begin test......\n",
      "Test Loss: 0.0080 Acc: 0.4606\n",
      "Epoch: 42/100 Train Loss: 0.0087 Acc: 0.4163\n",
      "Begin test......\n",
      "Test Loss: 0.0080 Acc: 0.4603\n",
      "Epoch: 43/100 Train Loss: 0.0087 Acc: 0.4209\n",
      "Begin test......\n",
      "Test Loss: 0.0080 Acc: 0.4600\n",
      "Epoch: 44/100 Train Loss: 0.0086 Acc: 0.4194\n",
      "Begin test......\n",
      "Test Loss: 0.0080 Acc: 0.4602\n",
      "Epoch: 45/100 Train Loss: 0.0086 Acc: 0.4203\n",
      "Begin test......\n",
      "Test Loss: 0.0080 Acc: 0.4604\n",
      "Epoch: 46/100 Train Loss: 0.0086 Acc: 0.4196\n",
      "Begin test......\n",
      "Test Loss: 0.0080 Acc: 0.4604\n",
      "Epoch: 47/100 Train Loss: 0.0086 Acc: 0.4228\n",
      "Begin test......\n",
      "Test Loss: 0.0080 Acc: 0.4599\n",
      "Epoch: 48/100 Train Loss: 0.0086 Acc: 0.4199\n",
      "Begin test......\n",
      "Test Loss: 0.0080 Acc: 0.4600\n",
      "Epoch: 49/100 Train Loss: 0.0086 Acc: 0.4218\n",
      "Begin test......\n",
      "Test Loss: 0.0080 Acc: 0.4607\n",
      "Epoch: 50/100 Train Loss: 0.0086 Acc: 0.4216\n",
      "Begin test......\n",
      "Test Loss: 0.0080 Acc: 0.4607\n",
      "Epoch: 51/100 Train Loss: 0.0086 Acc: 0.4204\n",
      "Begin test......\n",
      "Test Loss: 0.0080 Acc: 0.4603\n",
      "Epoch: 52/100 Train Loss: 0.0086 Acc: 0.4185\n",
      "Begin test......\n",
      "Test Loss: 0.0080 Acc: 0.4603\n",
      "Epoch: 53/100 Train Loss: 0.0086 Acc: 0.4210\n",
      "Begin test......\n",
      "Test Loss: 0.0080 Acc: 0.4604\n",
      "Epoch: 54/100 Train Loss: 0.0086 Acc: 0.4210\n",
      "Begin test......\n",
      "Test Loss: 0.0080 Acc: 0.4603\n",
      "Epoch: 55/100 Train Loss: 0.0086 Acc: 0.4227\n",
      "Begin test......\n",
      "Test Loss: 0.0080 Acc: 0.4600\n",
      "Epoch: 56/100 Train Loss: 0.0086 Acc: 0.4206\n",
      "Begin test......\n",
      "Test Loss: 0.0080 Acc: 0.4599\n",
      "Epoch: 57/100 Train Loss: 0.0086 Acc: 0.4194\n",
      "Begin test......\n",
      "Test Loss: 0.0080 Acc: 0.4604\n",
      "Epoch: 58/100 Train Loss: 0.0086 Acc: 0.4203\n",
      "Begin test......\n",
      "Test Loss: 0.0080 Acc: 0.4607\n",
      "Epoch: 59/100 Train Loss: 0.0086 Acc: 0.4218\n",
      "Begin test......\n",
      "Test Loss: 0.0080 Acc: 0.4608\n",
      "Epoch: 60/100 Train Loss: 0.0086 Acc: 0.4173\n",
      "Begin test......\n",
      "Test Loss: 0.0080 Acc: 0.4608\n",
      "Epoch: 61/100 Train Loss: 0.0086 Acc: 0.4195\n",
      "Begin test......\n",
      "Test Loss: 0.0080 Acc: 0.4607\n",
      "Epoch: 62/100 Train Loss: 0.0086 Acc: 0.4206\n",
      "Begin test......\n",
      "Test Loss: 0.0080 Acc: 0.4608\n",
      "Epoch: 63/100 Train Loss: 0.0086 Acc: 0.4203\n",
      "Begin test......\n",
      "Test Loss: 0.0080 Acc: 0.4606\n",
      "Epoch: 64/100 Train Loss: 0.0086 Acc: 0.4215\n",
      "Begin test......\n",
      "Test Loss: 0.0080 Acc: 0.4604\n",
      "Epoch: 65/100 Train Loss: 0.0086 Acc: 0.4217\n",
      "Begin test......\n",
      "Test Loss: 0.0080 Acc: 0.4606\n",
      "Epoch: 66/100 Train Loss: 0.0086 Acc: 0.4188\n",
      "Begin test......\n",
      "Test Loss: 0.0080 Acc: 0.4606\n",
      "Epoch: 67/100 Train Loss: 0.0086 Acc: 0.4198\n",
      "Begin test......\n",
      "Test Loss: 0.0080 Acc: 0.4606\n",
      "Epoch: 68/100 Train Loss: 0.0086 Acc: 0.4191\n",
      "Begin test......\n",
      "Test Loss: 0.0080 Acc: 0.4606\n",
      "Epoch: 69/100 Train Loss: 0.0086 Acc: 0.4212\n",
      "Begin test......\n",
      "Test Loss: 0.0080 Acc: 0.4604\n",
      "Epoch: 70/100 Train Loss: 0.0086 Acc: 0.4181\n",
      "Begin test......\n",
      "Test Loss: 0.0080 Acc: 0.4604\n",
      "Epoch: 71/100 Train Loss: 0.0086 Acc: 0.4226\n",
      "Begin test......\n",
      "Test Loss: 0.0080 Acc: 0.4604\n",
      "Epoch: 72/100 Train Loss: 0.0086 Acc: 0.4200\n",
      "Begin test......\n",
      "Test Loss: 0.0080 Acc: 0.4606\n",
      "Epoch: 73/100 Train Loss: 0.0086 Acc: 0.4225\n",
      "Begin test......\n",
      "Test Loss: 0.0080 Acc: 0.4604\n",
      "Epoch: 74/100 Train Loss: 0.0086 Acc: 0.4197\n",
      "Begin test......\n",
      "Test Loss: 0.0080 Acc: 0.4607\n",
      "Epoch: 75/100 Train Loss: 0.0086 Acc: 0.4178\n",
      "Begin test......\n",
      "Test Loss: 0.0080 Acc: 0.4607\n",
      "Epoch: 76/100 Train Loss: 0.0086 Acc: 0.4213\n",
      "Begin test......\n",
      "Test Loss: 0.0080 Acc: 0.4607\n",
      "Epoch: 77/100 Train Loss: 0.0086 Acc: 0.4215\n",
      "Begin test......\n",
      "Test Loss: 0.0080 Acc: 0.4607\n",
      "Epoch: 78/100 Train Loss: 0.0086 Acc: 0.4198\n",
      "Begin test......\n",
      "Test Loss: 0.0080 Acc: 0.4607\n",
      "Epoch: 79/100 Train Loss: 0.0086 Acc: 0.4212\n",
      "Begin test......\n",
      "Test Loss: 0.0080 Acc: 0.4607\n",
      "Epoch: 80/100 Train Loss: 0.0086 Acc: 0.4223\n",
      "Begin test......\n",
      "Test Loss: 0.0080 Acc: 0.4607\n",
      "Epoch: 81/100 Train Loss: 0.0086 Acc: 0.4207\n",
      "Begin test......\n",
      "Test Loss: 0.0080 Acc: 0.4607\n",
      "Epoch: 82/100 Train Loss: 0.0086 Acc: 0.4185\n",
      "Begin test......\n",
      "Test Loss: 0.0080 Acc: 0.4606\n",
      "Epoch: 83/100 Train Loss: 0.0086 Acc: 0.4213\n",
      "Begin test......\n",
      "Test Loss: 0.0080 Acc: 0.4607\n",
      "Epoch: 84/100 Train Loss: 0.0086 Acc: 0.4192\n",
      "Begin test......\n",
      "Test Loss: 0.0080 Acc: 0.4607\n",
      "Epoch: 85/100 Train Loss: 0.0086 Acc: 0.4204\n",
      "Begin test......\n",
      "Test Loss: 0.0080 Acc: 0.4606\n",
      "Epoch: 86/100 Train Loss: 0.0086 Acc: 0.4187\n",
      "Begin test......\n",
      "Test Loss: 0.0080 Acc: 0.4606\n",
      "Epoch: 87/100 Train Loss: 0.0086 Acc: 0.4181\n",
      "Begin test......\n",
      "Test Loss: 0.0080 Acc: 0.4606\n",
      "Epoch: 88/100 Train Loss: 0.0086 Acc: 0.4199\n",
      "Begin test......\n",
      "Test Loss: 0.0080 Acc: 0.4606\n",
      "Epoch: 89/100 Train Loss: 0.0086 Acc: 0.4217\n",
      "Begin test......\n",
      "Test Loss: 0.0080 Acc: 0.4607\n",
      "Epoch: 90/100 Train Loss: 0.0086 Acc: 0.4201\n",
      "Begin test......\n",
      "Test Loss: 0.0080 Acc: 0.4607\n",
      "Epoch: 91/100 Train Loss: 0.0086 Acc: 0.4187\n",
      "Begin test......\n",
      "Test Loss: 0.0080 Acc: 0.4606\n",
      "Epoch: 92/100 Train Loss: 0.0086 Acc: 0.4215\n",
      "Begin test......\n",
      "Test Loss: 0.0080 Acc: 0.4607\n",
      "Epoch: 93/100 Train Loss: 0.0086 Acc: 0.4196\n",
      "Begin test......\n",
      "Test Loss: 0.0080 Acc: 0.4606\n",
      "Epoch: 94/100 Train Loss: 0.0086 Acc: 0.4203\n",
      "Begin test......\n",
      "Test Loss: 0.0080 Acc: 0.4607\n",
      "Epoch: 95/100 Train Loss: 0.0086 Acc: 0.4223\n",
      "Begin test......\n",
      "Test Loss: 0.0080 Acc: 0.4606\n",
      "Epoch: 96/100 Train Loss: 0.0086 Acc: 0.4220\n",
      "Begin test......\n",
      "Test Loss: 0.0080 Acc: 0.4606\n",
      "Epoch: 97/100 Train Loss: 0.0086 Acc: 0.4196\n",
      "Begin test......\n",
      "Test Loss: 0.0080 Acc: 0.4606\n",
      "Epoch: 98/100 Train Loss: 0.0086 Acc: 0.4180\n",
      "Begin test......\n",
      "Test Loss: 0.0080 Acc: 0.4606\n",
      "Epoch: 99/100 Train Loss: 0.0086 Acc: 0.4246\n",
      "Begin test......\n",
      "Test Loss: 0.0080 Acc: 0.4606\n",
      "Epoch: 100/100 Train Loss: 0.0086 Acc: 0.4214\n",
      "Begin test......\n",
      "Test Loss: 0.0080 Acc: 0.4606\n"
     ]
    }
   ],
   "source": [
    "training_loss = []\n",
    "training_acc = []\n",
    "testing_loss = []\n",
    "testing_acc = []\n",
    "\n",
    "for epoch in range(NUM_EPOCHS):\n",
    "    model.train()\n",
    "    torch.cuda.empty_cache()\n",
    "\n",
    "    ##########################\n",
    "    ### Training\n",
    "    ##########################\n",
    "\n",
    "    running_cls_loss = 0.0\n",
    "    running_cls_corrects = 0\n",
    "\n",
    "######################################################################################\n",
    "    for batch_idx, (image, target) in enumerate(train_dataloader):   #CE-loss/FCLoss\n",
    "\n",
    "        image = image.to(device)\n",
    "        target = target.to(device)\n",
    "\n",
    "        # train model\n",
    "        outputs, loss = train_batch(model, image, target)\n",
    "        _, preds = torch.max(outputs, 1)\n",
    "\n",
    "        \n",
    "        loss_data = loss.data.item()\n",
    "        if np.isnan(loss_data):\n",
    "            raise ValueError('loss is nan while training')\n",
    "        running_cls_loss += loss.item()\n",
    "        running_cls_corrects += torch.sum(preds == target.data)\n",
    "\n",
    "        loss.backward()\n",
    "        optimizer.step()\n",
    "        optimizer.zero_grad()                                         #CE-Loss/FCLoss\n",
    "########################################################################################\n",
    "#     for batch_idx, (image, target) in enumerate(train_dataloader):   #L1-loss\n",
    "\n",
    "#         image = image.to(device)\n",
    "#         target = target.to(device)\n",
    "#         #######################\n",
    "#         # 为使用L1loss function：\n",
    "#         target_one_hot = one_hot_encoding(target, 10)  # 转换成 one-hot 编码\n",
    "\n",
    "\n",
    "#         # train model\n",
    "#         outputs, loss = train_batch(model, image, target_one_hot)  # 使用 one-hot 编码后的目标\n",
    "#         _, preds = torch.max(outputs, 1)\n",
    "\n",
    "        \n",
    "#         loss_data = loss.data.item()\n",
    "#         if np.isnan(loss_data):\n",
    "#             raise ValueError('loss is nan while training')\n",
    "#         running_cls_loss += loss.item()\n",
    "#         running_cls_corrects += torch.sum(preds == target.data)\n",
    "\n",
    "#         loss.backward()\n",
    "#         optimizer.step()\n",
    "#         optimizer.zero_grad()                                       #L1-Loss\n",
    "########################################################################################\n",
    "\n",
    "    epoch_loss = running_cls_loss / len(train_set)\n",
    "    epoch_acc = running_cls_corrects.double() / len(train_set)\n",
    "\n",
    "    print(f'Epoch: {epoch+1}/{NUM_EPOCHS} Train Loss: {epoch_loss:.4f} Acc: {epoch_acc:.4f}')\n",
    "\n",
    "    training_loss.append(epoch_loss)\n",
    "    training_acc.append(epoch_acc.cpu().detach().numpy())\n",
    "\n",
    "    # change learning rate\n",
    "    scheduler.step()\n",
    "\n",
    "\n",
    "    ##########################\n",
    "    ### Testing\n",
    "    ##########################\n",
    "    # # eval model during training or in the last epoch\n",
    "    if (epoch + 1) % EVAL_INTERVAL == 0 or (epoch +1) == NUM_EPOCHS:\n",
    "        print('Begin test......')\n",
    "        model.eval()\n",
    "    \n",
    "        val_loss = 0.0\n",
    "        val_corrects = 0\n",
    "################################################################################\n",
    "        for batch_idx, (image, target) in enumerate(test_dataloader):  #CE-Loss/FCLoss\n",
    "\n",
    "            image = image.to(device)\n",
    "            target = target.to(device)\n",
    "\n",
    "            # test model\n",
    "            outputs, loss = test_batch(model, image, target)\n",
    "            _, preds = torch.max(outputs, 1)\n",
    "            \n",
    "            val_loss += loss.item()\n",
    "            val_corrects += torch.sum(preds == target.data)           #CE-Loss/FCLoss\n",
    "#################################################################################\n",
    "#         for batch_idx, (image, target) in enumerate(test_dataloader):  #L1-Loss\n",
    "#             image = image.to(device)\n",
    "#             target = target.to(device)\n",
    "\n",
    "#             # test model\n",
    "#             ##################\n",
    "#             target_one_hot = one_hot_encoding(target, 10)  # 转换成 one-hot 编码\n",
    "#             outputs, loss = test_batch(model, image, target_one_hot)  # 使用 one-hot 编码后的目标\n",
    "#             #######################\n",
    "#             _, preds = torch.max(outputs, 1)\n",
    "            \n",
    "#             val_loss += loss.item()\n",
    "#             val_corrects += torch.sum(preds == target.data)  #L1-Loss\n",
    "####################################################################################            \n",
    "\n",
    "        val_loss = val_loss / len(test_set)\n",
    "        val_acc = val_corrects.double() / len(test_set)\n",
    "        print(f'Test Loss: {val_loss:.4f} Acc: {val_acc:.4f}')\n",
    "        testing_loss.append(val_loss)\n",
    "        testing_acc.append(val_acc.cpu().detach().numpy())\n",
    "\n",
    "        # save the model in last epoch\n",
    "        if (epoch +1) == NUM_EPOCHS:\n",
    "            \n",
    "            state = {\n",
    "            'state_dict': model.state_dict(),\n",
    "            'acc': epoch_acc,\n",
    "            'epoch': (epoch+1),\n",
    "            }\n",
    "\n",
    "            # check the dir\n",
    "            if not os.path.exists(SAVE_DIR):\n",
    "                os.makedirs(SAVE_DIR)\n",
    "\n",
    "            # save the state\n",
    "            torch.save(state, osp.join(SAVE_DIR, 'checkpoint_%s.pth' % (str(epoch+1))))"
   ]
  },
  {
   "cell_type": "markdown",
   "metadata": {},
   "source": [
    "### Data recording"
   ]
  },
  {
   "cell_type": "code",
   "execution_count": 14,
   "metadata": {},
   "outputs": [],
   "source": [
    "\n",
    "file1 = './dataForEpo/{0}_trainloss.txt'.format(lossfunction)\n",
    "file2 = './dataForEpo/{0}_trainacc.txt'.format(lossfunction)\n",
    "file3 = './dataForEpo/{0}_testloss.txt'.format(lossfunction)\n",
    "file4 = './dataForEpo/{0}_testacc.txt'.format(lossfunction)\n",
    "\n",
    "with open(file1, 'w', encoding='utf-8') as f:\n",
    "    for i in training_loss:\n",
    "        f.write(str(i)+'\\n')\n",
    "with open(file2, 'w', encoding='utf-8') as f:\n",
    "    for i in training_acc:\n",
    "        f.write(str(i)+'\\n')\n",
    "with open(file3, 'w', encoding='utf-8') as f:\n",
    "    for i in testing_loss:\n",
    "        f.write(str(i)+'\\n')\n",
    "with open(file4, 'w', encoding='utf-8') as f:\n",
    "    for i in testing_acc:\n",
    "        f.write(str(i)+'\\n')"
   ]
  },
  {
   "cell_type": "markdown",
   "metadata": {},
   "source": [
    "### Task 2: Instance inference\n",
    "---\n",
    "The task is to visualizes an image along with model prediction and class probabilities.\n",
    "\n",
    "**To do**: \n",
    "1. Calculate the prediction and the probabilities for each class.\n",
    "         "
   ]
  },
  {
   "cell_type": "code",
   "execution_count": 15,
   "metadata": {},
   "outputs": [],
   "source": [
    "inputs, classes = next(iter(test_dataloader))\n",
    "input = inputs[0]"
   ]
  },
  {
   "cell_type": "code",
   "execution_count": 16,
   "metadata": {},
   "outputs": [
    {
     "name": "stdout",
     "output_type": "stream",
     "text": [
      "tensor([-1.1539, -2.0562,  1.2645,  2.2131,  0.2431,  2.2197,  1.4304, -0.6267,\n",
      "        -0.9770, -2.0736], device='cuda:0', grad_fn=<SelectBackward0>)\n"
     ]
    },
    {
     "data": {
      "text/plain": [
       "tensor(5, device='cuda:0')"
      ]
     },
     "execution_count": 16,
     "metadata": {},
     "output_type": "execute_result"
    }
   ],
   "source": [
    "##################### Write your answer here ##################\n",
    "# input: image, model\n",
    "# outputs: predict_label, probabilities\n",
    "# predict_label is the index (or label) of the class with the highest probability from the probabilities.\n",
    "###############################################################\n",
    "\n",
    "input = input.to(device)\n",
    "probabilities = model(input)[0]\n",
    "predict_label = torch.argmax(probabilities)\n",
    "print(probabilities)\n",
    "predict_label"
   ]
  },
  {
   "cell_type": "code",
   "execution_count": 17,
   "metadata": {},
   "outputs": [
    {
     "name": "stderr",
     "output_type": "stream",
     "text": [
      "Clipping input data to the valid range for imshow with RGB data ([0..1] for floats or [0..255] for integers).\n"
     ]
    },
    {
     "data": {
      "image/png": "[encoded data removed]",
      "text/plain": [
       "<Figure size 640x480 with 1 Axes>"
      ]
     },
     "metadata": {},
     "output_type": "display_data"
    },
    {
     "name": "stdout",
     "output_type": "stream",
     "text": [
      "Print probabilities for each class:\n",
      "airplane: -1.1539\n",
      "automobile: -2.0562\n",
      "bird: 1.2645\n",
      "cat: 2.2131\n",
      "deer: 0.2431\n",
      "dog: 2.2197\n",
      "frog: 1.4304\n",
      "horse: -0.6267\n",
      "ship: -0.9770\n",
      "truck: -2.0736\n"
     ]
    }
   ],
   "source": [
    "predicted_class = class_names[predict_label.item()]\n",
    "predicted_probability = probabilities[predict_label].item()\n",
    "\n",
    "image = input.cpu().numpy().transpose((1, 2, 0))\n",
    "plt.imshow(image)\n",
    "plt.text(17, 30, f'Predicted Class: {predicted_class}\\nProbability: {predicted_probability:.2f}', \n",
    "            color='white', backgroundcolor='black', fontsize=8)\n",
    "plt.show()\n",
    "\n",
    "# Print probabilities for each class\n",
    "print('Print probabilities for each class:')\n",
    "for i in range(len(class_names)):\n",
    "    print(f'{class_names[i]}: {probabilities[i].item():.4f}')"
   ]
  },
  {
   "cell_type": "code",
   "execution_count": null,
   "metadata": {},
   "outputs": [],
   "source": []
  }
 ],
 "metadata": {
  "kernelspec": {
   "display_name": "Python 3 (ipykernel)",
   "language": "python",
   "name": "python3"
  },
  "language_info": {
   "codemirror_mode": {
    "name": "ipython",
    "version": 3
   },
   "file_extension": ".py",
   "mimetype": "text/x-python",
   "name": "python",
   "nbconvert_exporter": "python",
   "pygments_lexer": "ipython3",
   "version": "3.10.12"
  }
 },
 "nbformat": 4,
 "nbformat_minor": 4
}
