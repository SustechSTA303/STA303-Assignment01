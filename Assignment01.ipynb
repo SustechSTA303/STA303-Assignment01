{
 "cells": [
  {
   "cell_type": "markdown",
   "metadata": {},
   "source": [
    "# Assignment 01: Multi-class Classification \n",
    "In this Assignment, you will train a deep model on the CIFAR10 from the scratch using PyTorch."
   ]
  },
  {
   "cell_type": "markdown",
   "metadata": {},
   "source": [
    "## Precautions"
   ]
  },
  {
   "cell_type": "markdown",
   "metadata": {},
   "source": [
    "#### change all hyperparameters and optimizers manually!!!"
   ]
  },
  {
   "cell_type": "markdown",
   "metadata": {},
   "source": [
    "### Basic Imports"
   ]
  },
  {
   "cell_type": "code",
   "execution_count": 1,
   "metadata": {
    "jupyter": {
     "source_hidden": true
    }
   },
   "outputs": [],
   "source": [
    "import os\n",
    "import time\n",
    "import os.path as osp\n",
    "\n",
    "import numpy as np\n",
    "import pandas as pd\n",
    "\n",
    "import torch\n",
    "import torch.nn as nn\n",
    "import torch.nn.functional as F\n",
    "import torch.optim as optim\n",
    "from torch.utils.data import DataLoader\n",
    "\n",
    "from torchvision import datasets\n",
    "from torchvision import transforms\n",
    "import torchvision\n",
    "\n",
    "import matplotlib.pyplot as plt\n",
    "from PIL import Image\n",
    "\n",
    "import platform\n",
    "import time\n",
    "\n",
    "import csv\n",
    "\n",
    "import pickle"
   ]
  },
  {
   "cell_type": "markdown",
   "metadata": {},
   "source": [
    "### Hyperparameters"
   ]
  },
  {
   "cell_type": "code",
   "execution_count": 2,
   "metadata": {
    "jupyter": {
     "source_hidden": true
    }
   },
   "outputs": [],
   "source": [
    "# random seed\n",
    "SEED = 1 \n",
    "NUM_CLASS = 10\n",
    "\n",
    "# Training\n",
    "BATCH_SIZE = 128\n",
    "NUM_EPOCHS = 100\n",
    "EVAL_INTERVAL=1\n",
    "SAVE_DIR = './log'\n",
    "\n",
    "# Optimizer\n",
    "LEARNING_RATE = 1e-1\n",
    "MOMENTUM = 0.9\n",
    "STEP=5\n",
    "GAMMA=0.5\n"
   ]
  },
  {
   "cell_type": "code",
   "execution_count": 3,
   "metadata": {
    "jupyter": {
     "source_hidden": true
    }
   },
   "outputs": [],
   "source": [
    "#early stop parameter\n",
    "\n",
    "early_stopping_patience = 7  # Number of epochs to wait for improvement\n",
    "best_val_loss = float('inf')  # Initialize with a high value\n",
    "early_stopping_counter = 0  # Counter to track the number of epochs without improvement"
   ]
  },
  {
   "cell_type": "markdown",
   "metadata": {},
   "source": [
    "### Device"
   ]
  },
  {
   "cell_type": "code",
   "execution_count": 4,
   "metadata": {
    "jupyter": {
     "source_hidden": true
    }
   },
   "outputs": [
    {
     "data": {
      "text/plain": [
       "True"
      ]
     },
     "execution_count": 4,
     "metadata": {},
     "output_type": "execute_result"
    }
   ],
   "source": [
    "device = torch.device(\"cuda:0\" if torch.cuda.is_available() else \"cpu\")\n",
    "#device = torch.device(\"cpu\")\n",
    "# torch.cuda.empty_cache()\n",
    "torch.cuda.is_available()"
   ]
  },
  {
   "cell_type": "markdown",
   "metadata": {},
   "source": [
    "\n",
    "### Dataset\n"
   ]
  },
  {
   "cell_type": "code",
   "execution_count": 5,
   "metadata": {
    "jupyter": {
     "source_hidden": true
    }
   },
   "outputs": [
    {
     "name": "stdout",
     "output_type": "stream",
     "text": [
      "Files already downloaded and verified\n",
      "Files already downloaded and verified\n"
     ]
    }
   ],
   "source": [
    "# cifar10 transform\n",
    "transform_cifar10_train = transforms.Compose([\n",
    "    transforms.RandomCrop(32, padding=4),\n",
    "    transforms.RandomHorizontalFlip(),\n",
    "    transforms.ToTensor(),\n",
    "    transforms.Normalize((0.4914, 0.4822, 0.4465), (0.2023, 0.1994, 0.2010)),\n",
    "])\n",
    "\n",
    "transform_cifar10_test = transforms.Compose([\n",
    "    transforms.ToTensor(),\n",
    "    transforms.Normalize((0.4914, 0.4822, 0.4465), (0.2023, 0.1994, 0.2010)),\n",
    "])\n",
    "\n",
    "train_set = torchvision.datasets.CIFAR10(root='../data', train=True,\n",
    "                                        download=True, transform=transform_cifar10_train)\n",
    "train_dataloader = torch.utils.data.DataLoader(train_set, batch_size=BATCH_SIZE,\n",
    "                                          shuffle=True, num_workers=2)\n",
    "\n",
    "test_set = torchvision.datasets.CIFAR10(root='../data', train=False,\n",
    "                                       download=True, transform=transform_cifar10_test)\n",
    "test_dataloader = torch.utils.data.DataLoader(test_set, batch_size=BATCH_SIZE,\n",
    "                                         shuffle=False, num_workers=2)\n",
    "\n",
    "class_names = ['airplane', 'automobile', 'bird', 'cat', 'deer', 'dog', 'frog', 'horse', 'ship', 'truck']\n"
   ]
  },
  {
   "cell_type": "markdown",
   "metadata": {},
   "source": [
    "### Model"
   ]
  },
  {
   "cell_type": "code",
   "execution_count": 6,
   "metadata": {
    "jupyter": {
     "source_hidden": true
    }
   },
   "outputs": [],
   "source": [
    "class ConvNet(nn.Module):\n",
    "    def __init__(self):\n",
    "        super(ConvNet, self).__init__()\n",
    "        self.conv1 = nn.Conv2d(3, 4, 3)  \n",
    "        self.pool = nn.MaxPool2d(2, 2)\n",
    "        self.conv2 = nn.Conv2d(4, 8, 3)  \n",
    "        self.fc1 = nn.Linear(8 * 6 * 6, 32)\n",
    "        self.fc2 = nn.Linear(32, 10)\n",
    "\n",
    "    def forward(self, x):\n",
    "        x = self.pool(torch.relu(self.conv1(x)))\n",
    "        x = self.pool(torch.relu(self.conv2(x)))\n",
    "        x = x.view(-1, 8 * 6 * 6)\n",
    "        x = torch.relu(self.fc1(x))\n",
    "        x = self.fc2(x)\n",
    "        return x"
   ]
  },
  {
   "cell_type": "code",
   "execution_count": 7,
   "metadata": {
    "jupyter": {
     "source_hidden": true
    }
   },
   "outputs": [],
   "source": [
    "model = ConvNet()\n",
    "model.to(device)\n",
    "\n",
    "# Optionally, you can save the model's initial state_dict for later use\n",
    "initial_state_dict = model.state_dict()"
   ]
  },
  {
   "cell_type": "markdown",
   "metadata": {},
   "source": [
    "### Optimizer"
   ]
  },
  {
   "cell_type": "code",
   "execution_count": 8,
   "metadata": {
    "jupyter": {
     "source_hidden": true
    }
   },
   "outputs": [],
   "source": [
    "# optimizer = optim.SGD(model.parameters(), lr=LEARNING_RATE, momentum=MOMENTUM)\n",
    "optimizer = optim.SGD(model.parameters(), lr=LEARNING_RATE)\n",
    "\n",
    "# optimizer = optim.Adam(model.parameters(), lr=LEARNING_RATE)\n",
    "# optimizer = optim.RMSprop(model.parameters(), lr=LEARNING_RATE)\n",
    "# optimizer = optim.NAdam(model.parameters(), lr=LEARNING_RATE)\n",
    "scheduler = torch.optim.lr_scheduler.StepLR(optimizer, step_size=STEP, gamma=GAMMA)"
   ]
  },
  {
   "cell_type": "code",
   "execution_count": 9,
   "metadata": {
    "jupyter": {
     "source_hidden": true
    }
   },
   "outputs": [],
   "source": [
    "##################### Write your answer here ##################\n",
    "# Define the loss function\n",
    "criterion = nn.CrossEntropyLoss()\n",
    "###############################################################"
   ]
  },
  {
   "cell_type": "code",
   "execution_count": 10,
   "metadata": {
    "jupyter": {
     "source_hidden": true
    }
   },
   "outputs": [],
   "source": [
    "def train_batch(model, image, target):\n",
    "    \"\"\"\n",
    "    Perform one training batch iteration.\n",
    "\n",
    "    Args:\n",
    "        model (torch.nn.Module): The machine learning model to train.\n",
    "        image (torch.Tensor): Batch of input data (images).\n",
    "        target (torch.Tensor): Batch of target labels.\n",
    "\n",
    "    Returns:\n",
    "        torch.Tensor: Model output (predictions) for the batch.\n",
    "        torch.Tensor: Loss value calculated by the defined loss function loss_fn().\n",
    "    \"\"\"\n",
    "    \n",
    "    ##################### Write your answer here ##################\n",
    "    output = model(image)\n",
    "    loss = criterion(output,target)\n",
    "    ###############################################################\n",
    "\n",
    "    return output, loss"
   ]
  },
  {
   "cell_type": "code",
   "execution_count": 11,
   "metadata": {
    "jupyter": {
     "source_hidden": true
    }
   },
   "outputs": [],
   "source": [
    "\n",
    "def test_batch(model, image, target):\n",
    "    \"\"\"\n",
    "    Perform one testing batch iteration.\n",
    "\n",
    "    Args:\n",
    "        model (torch.nn.Module): The machine learning model to evaluate.\n",
    "        image (torch.Tensor): Batch of input data (images).\n",
    "        target (torch.Tensor): Batch of target labels.\n",
    "\n",
    "    Returns:\n",
    "        torch.Tensor: Model output (predictions) for the batch.\n",
    "        torch.Tensor: Loss value calculated for the batch.\n",
    "    \"\"\"\n",
    "\n",
    "    ##################### Write your answer here ##################\n",
    "    output = model(image)\n",
    "    loss = criterion(output,target)\n",
    "    ###############################################################\n",
    "\n",
    "    return output, loss"
   ]
  },
  {
   "cell_type": "markdown",
   "metadata": {},
   "source": [
    "### Model Training"
   ]
  },
  {
   "cell_type": "markdown",
   "metadata": {},
   "source": [
    "SGD learning rate: 1e-1"
   ]
  },
  {
   "cell_type": "code",
   "execution_count": 12,
   "metadata": {
    "jupyter": {
     "source_hidden": true
    }
   },
   "outputs": [],
   "source": [
    "data_list2 = []"
   ]
  },
  {
   "cell_type": "code",
   "execution_count": 13,
   "metadata": {
    "collapsed": true,
    "jupyter": {
     "outputs_hidden": true,
     "source_hidden": true
    }
   },
   "outputs": [
    {
     "name": "stdout",
     "output_type": "stream",
     "text": [
      "Epoch: 1/100 Train Loss: 0.01592 Acc: 0.25322\n",
      "Begin test......\n",
      "Test Loss: 0.01424 Acc: 0.35230\n",
      "Epoch: 2/100 Train Loss: 0.01360 Acc: 0.36420\n",
      "Begin test......\n",
      "Test Loss: 0.01214 Acc: 0.43700\n",
      "Epoch: 3/100 Train Loss: 0.01273 Acc: 0.40902\n",
      "Begin test......\n",
      "Test Loss: 0.01143 Acc: 0.47880\n",
      "Epoch: 4/100 Train Loss: 0.01228 Acc: 0.42946\n",
      "Begin test......\n",
      "Test Loss: 0.01098 Acc: 0.49990\n",
      "Epoch: 5/100 Train Loss: 0.01199 Acc: 0.44644\n",
      "Begin test......\n",
      "Test Loss: 0.01106 Acc: 0.50490\n",
      "Epoch: 6/100 Train Loss: 0.01174 Acc: 0.45740\n",
      "Begin test......\n",
      "Test Loss: 0.01051 Acc: 0.51870\n",
      "Epoch: 7/100 Train Loss: 0.01148 Acc: 0.47392\n",
      "Begin test......\n",
      "Test Loss: 0.01103 Acc: 0.49720\n",
      "Epoch: 8/100 Train Loss: 0.01130 Acc: 0.48284\n",
      "Begin test......\n",
      "Test Loss: 0.01041 Acc: 0.52420\n",
      "Epoch: 9/100 Train Loss: 0.01124 Acc: 0.48722\n",
      "Begin test......\n",
      "Test Loss: 0.01044 Acc: 0.52380\n",
      "Epoch: 10/100 Train Loss: 0.01107 Acc: 0.49064\n",
      "Begin test......\n",
      "Test Loss: 0.01051 Acc: 0.52200\n",
      "Epoch: 11/100 Train Loss: 0.01101 Acc: 0.49268\n",
      "Begin test......\n",
      "Test Loss: 0.01004 Acc: 0.54000\n",
      "Epoch: 12/100 Train Loss: 0.01095 Acc: 0.49760\n",
      "Begin test......\n",
      "Test Loss: 0.01064 Acc: 0.51840\n",
      "Epoch: 13/100 Train Loss: 0.01089 Acc: 0.50058\n",
      "Begin test......\n",
      "Test Loss: 0.01005 Acc: 0.54540\n",
      "Epoch: 14/100 Train Loss: 0.01086 Acc: 0.50366\n",
      "Begin test......\n",
      "Test Loss: 0.01132 Acc: 0.49590\n",
      "Epoch: 15/100 Train Loss: 0.01079 Acc: 0.50698\n",
      "Begin test......\n",
      "Test Loss: 0.00999 Acc: 0.55050\n",
      "Epoch: 16/100 Train Loss: 0.01085 Acc: 0.50402\n",
      "Begin test......\n",
      "Test Loss: 0.01012 Acc: 0.53640\n",
      "Epoch: 17/100 Train Loss: 0.01077 Acc: 0.51042\n",
      "Begin test......\n",
      "Test Loss: 0.01003 Acc: 0.54060\n",
      "Epoch: 18/100 Train Loss: 0.01072 Acc: 0.51120\n",
      "Begin test......\n",
      "Test Loss: 0.01094 Acc: 0.50560\n",
      "Epoch: 19/100 Train Loss: 0.01069 Acc: 0.51076\n",
      "Begin test......\n",
      "Test Loss: 0.01007 Acc: 0.54960\n",
      "Epoch: 20/100 Train Loss: 0.01069 Acc: 0.51106\n",
      "Begin test......\n",
      "Test Loss: 0.01000 Acc: 0.54850\n",
      "Epoch: 21/100 Train Loss: 0.01064 Acc: 0.51480\n",
      "Begin test......\n",
      "Test Loss: 0.01049 Acc: 0.52730\n",
      "Epoch: 22/100 Train Loss: 0.01061 Acc: 0.51828\n",
      "Begin test......\n",
      "Test Loss: 0.00982 Acc: 0.55390\n",
      "Epoch: 23/100 Train Loss: 0.01063 Acc: 0.51826\n",
      "Begin test......\n",
      "Test Loss: 0.01033 Acc: 0.53470\n",
      "Epoch: 24/100 Train Loss: 0.01064 Acc: 0.51450\n",
      "Begin test......\n",
      "Test Loss: 0.01036 Acc: 0.52670\n",
      "Epoch: 25/100 Train Loss: 0.01055 Acc: 0.51852\n",
      "Begin test......\n",
      "Test Loss: 0.01068 Acc: 0.51980\n",
      "Epoch: 26/100 Train Loss: 0.01053 Acc: 0.52052\n",
      "Begin test......\n",
      "Test Loss: 0.01036 Acc: 0.52370\n",
      "Epoch: 27/100 Train Loss: 0.01052 Acc: 0.52154\n",
      "Begin test......\n",
      "Test Loss: 0.00994 Acc: 0.55720\n",
      "Epoch: 28/100 Train Loss: 0.01053 Acc: 0.51876\n",
      "Begin test......\n",
      "Test Loss: 0.01063 Acc: 0.51900\n",
      "Epoch: 29/100 Train Loss: 0.01050 Acc: 0.51946\n",
      "Begin test......\n",
      "Test Loss: 0.01009 Acc: 0.54520\n",
      "Epoch: 30/100 Train Loss: 0.01046 Acc: 0.52196\n",
      "Begin test......\n",
      "Test Loss: 0.00974 Acc: 0.56210\n",
      "Epoch: 31/100 Train Loss: 0.01045 Acc: 0.52438\n",
      "Begin test......\n",
      "Test Loss: 0.01007 Acc: 0.55260\n",
      "Epoch: 32/100 Train Loss: 0.01046 Acc: 0.52218\n",
      "Begin test......\n",
      "Test Loss: 0.00980 Acc: 0.55440\n",
      "Epoch: 33/100 Train Loss: 0.01046 Acc: 0.52658\n",
      "Begin test......\n",
      "Test Loss: 0.01015 Acc: 0.54410\n",
      "Epoch: 34/100 Train Loss: 0.01040 Acc: 0.52504\n",
      "Begin test......\n",
      "Test Loss: 0.00977 Acc: 0.55330\n",
      "Epoch: 35/100 Train Loss: 0.01037 Acc: 0.52944\n",
      "Begin test......\n",
      "Test Loss: 0.00942 Acc: 0.57360\n",
      "Epoch: 36/100 Train Loss: 0.01040 Acc: 0.52546\n",
      "Begin test......\n",
      "Test Loss: 0.01051 Acc: 0.53430\n",
      "Epoch: 37/100 Train Loss: 0.01037 Acc: 0.52654\n",
      "Begin test......\n",
      "Test Loss: 0.00978 Acc: 0.56150\n",
      "Epoch: 38/100 Train Loss: 0.01034 Acc: 0.53024\n",
      "Begin test......\n",
      "Test Loss: 0.00992 Acc: 0.56160\n",
      "Epoch: 39/100 Train Loss: 0.01033 Acc: 0.53066\n",
      "Begin test......\n",
      "Test Loss: 0.00946 Acc: 0.57500\n",
      "Epoch: 40/100 Train Loss: 0.01025 Acc: 0.53364\n",
      "Begin test......\n",
      "Test Loss: 0.01008 Acc: 0.53260\n",
      "Epoch: 41/100 Train Loss: 0.01026 Acc: 0.53198\n",
      "Begin test......\n",
      "Test Loss: 0.00962 Acc: 0.55770\n",
      "Epoch: 42/100 Train Loss: 0.01032 Acc: 0.53130\n",
      "Begin test......\n",
      "Test Loss: 0.00949 Acc: 0.57020\n",
      "Epoch: 43/100 Train Loss: 0.01025 Acc: 0.53524\n",
      "Begin test......\n",
      "Test Loss: 0.00935 Acc: 0.57040\n",
      "Epoch: 44/100 Train Loss: 0.01024 Acc: 0.53586\n",
      "Begin test......\n",
      "Test Loss: 0.00965 Acc: 0.56160\n",
      "Epoch: 45/100 Train Loss: 0.01024 Acc: 0.53270\n",
      "Begin test......\n",
      "Test Loss: 0.00969 Acc: 0.56230\n",
      "Epoch: 46/100 Train Loss: 0.01027 Acc: 0.53326\n",
      "Begin test......\n",
      "Test Loss: 0.00952 Acc: 0.56930\n",
      "Epoch: 47/100 Train Loss: 0.01024 Acc: 0.53568\n",
      "Begin test......\n",
      "Test Loss: 0.00938 Acc: 0.57700\n",
      "Epoch: 48/100 Train Loss: 0.01021 Acc: 0.53350\n",
      "Begin test......\n",
      "Test Loss: 0.00951 Acc: 0.56760\n",
      "Epoch: 49/100 Train Loss: 0.01024 Acc: 0.53516\n",
      "Begin test......\n",
      "Test Loss: 0.00955 Acc: 0.56860\n",
      "Epoch: 50/100 Train Loss: 0.01021 Acc: 0.53350\n",
      "Begin test......\n",
      "Test Loss: 0.01002 Acc: 0.55100\n",
      "Epoch: 51/100 Train Loss: 0.01020 Acc: 0.53656\n",
      "Begin test......\n",
      "Test Loss: 0.01040 Acc: 0.52640\n",
      "Epoch: 52/100 Train Loss: 0.01018 Acc: 0.53778\n",
      "Begin test......\n",
      "Test Loss: 0.00939 Acc: 0.57740\n",
      "Epoch: 53/100 Train Loss: 0.01019 Acc: 0.53556\n",
      "Begin test......\n",
      "Test Loss: 0.00922 Acc: 0.58650\n",
      "Epoch: 54/100 Train Loss: 0.01018 Acc: 0.53574\n",
      "Begin test......\n",
      "Test Loss: 0.00984 Acc: 0.56140\n",
      "Epoch: 55/100 Train Loss: 0.01016 Acc: 0.53618\n",
      "Begin test......\n",
      "Test Loss: 0.00985 Acc: 0.55550\n",
      "Epoch: 56/100 Train Loss: 0.01017 Acc: 0.53796\n",
      "Begin test......\n",
      "Test Loss: 0.00999 Acc: 0.55440\n",
      "Epoch: 57/100 Train Loss: 0.01015 Acc: 0.54108\n",
      "Begin test......\n",
      "Test Loss: 0.00930 Acc: 0.57890\n",
      "Epoch: 58/100 Train Loss: 0.01017 Acc: 0.53768\n",
      "Begin test......\n",
      "Test Loss: 0.01018 Acc: 0.55080\n",
      "Epoch: 59/100 Train Loss: 0.01014 Acc: 0.53804\n",
      "Begin test......\n",
      "Test Loss: 0.00963 Acc: 0.57160\n",
      "Epoch: 60/100 Train Loss: 0.01017 Acc: 0.54122\n",
      "Begin test......\n",
      "Test Loss: 0.00977 Acc: 0.55930\n",
      "Epoch: 61/100 Train Loss: 0.01013 Acc: 0.53970\n",
      "Begin test......\n",
      "Test Loss: 0.00963 Acc: 0.56130\n",
      "Epoch: 62/100 Train Loss: 0.01015 Acc: 0.53860\n",
      "Begin test......\n",
      "Test Loss: 0.00948 Acc: 0.57310\n",
      "Epoch: 63/100 Train Loss: 0.01013 Acc: 0.53988\n",
      "Begin test......\n",
      "Test Loss: 0.00918 Acc: 0.58390\n",
      "Epoch: 64/100 Train Loss: 0.01012 Acc: 0.53752\n",
      "Begin test......\n",
      "Test Loss: 0.00943 Acc: 0.58320\n",
      "Epoch: 65/100 Train Loss: 0.01011 Acc: 0.54250\n",
      "Begin test......\n",
      "Test Loss: 0.00962 Acc: 0.56590\n",
      "Epoch: 66/100 Train Loss: 0.01014 Acc: 0.54000\n",
      "Begin test......\n",
      "Test Loss: 0.00940 Acc: 0.57650\n",
      "Epoch: 67/100 Train Loss: 0.01013 Acc: 0.53896\n",
      "Begin test......\n",
      "Test Loss: 0.00998 Acc: 0.54770\n",
      "Epoch: 68/100 Train Loss: 0.01008 Acc: 0.54194\n",
      "Begin test......\n",
      "Test Loss: 0.00968 Acc: 0.56010\n",
      "Epoch: 69/100 Train Loss: 0.01012 Acc: 0.53854\n",
      "Begin test......\n",
      "Test Loss: 0.00974 Acc: 0.56410\n",
      "Epoch: 70/100 Train Loss: 0.01008 Acc: 0.54078\n",
      "Begin test......\n",
      "Test Loss: 0.00956 Acc: 0.56840\n",
      "Epoch: 71/100 Train Loss: 0.01009 Acc: 0.54316\n",
      "Begin test......\n",
      "Test Loss: 0.00920 Acc: 0.58230\n",
      "Epoch: 72/100 Train Loss: 0.01011 Acc: 0.54350\n",
      "Begin test......\n",
      "Test Loss: 0.00924 Acc: 0.58500\n",
      "Epoch: 73/100 Train Loss: 0.01011 Acc: 0.54056\n",
      "Begin test......\n",
      "Test Loss: 0.00945 Acc: 0.57370\n",
      "Epoch: 74/100 Train Loss: 0.01008 Acc: 0.54376\n",
      "Begin test......\n",
      "Test Loss: 0.00950 Acc: 0.56590\n",
      "Epoch: 75/100 Train Loss: 0.01010 Acc: 0.54180\n",
      "Begin test......\n",
      "Test Loss: 0.00976 Acc: 0.56430\n",
      "Epoch: 76/100 Train Loss: 0.01006 Acc: 0.54288\n",
      "Begin test......\n",
      "Test Loss: 0.00965 Acc: 0.56510\n",
      "Epoch: 77/100 Train Loss: 0.01004 Acc: 0.54562\n",
      "Begin test......\n",
      "Test Loss: 0.00920 Acc: 0.58630\n",
      "Epoch: 78/100 Train Loss: 0.01008 Acc: 0.54302\n",
      "Begin test......\n",
      "Test Loss: 0.01004 Acc: 0.55310\n",
      "Epoch: 79/100 Train Loss: 0.01007 Acc: 0.54542\n",
      "Begin test......\n",
      "Test Loss: 0.00957 Acc: 0.56470\n",
      "Epoch: 80/100 Train Loss: 0.01011 Acc: 0.54074\n",
      "Begin test......\n",
      "Test Loss: 0.00959 Acc: 0.56720\n",
      "Epoch: 81/100 Train Loss: 0.01002 Acc: 0.54530\n",
      "Begin test......\n",
      "Test Loss: 0.00963 Acc: 0.57910\n",
      "Epoch: 82/100 Train Loss: 0.01007 Acc: 0.54320\n",
      "Begin test......\n",
      "Test Loss: 0.00948 Acc: 0.57360\n",
      "Epoch: 83/100 Train Loss: 0.01003 Acc: 0.54376\n",
      "Begin test......\n",
      "Test Loss: 0.01004 Acc: 0.55370\n",
      "Epoch: 84/100 Train Loss: 0.01003 Acc: 0.54266\n",
      "Begin test......\n",
      "Test Loss: 0.00955 Acc: 0.56940\n",
      "Epoch: 85/100 Train Loss: 0.00998 Acc: 0.54764\n",
      "Begin test......\n",
      "Test Loss: 0.00923 Acc: 0.58390\n",
      "Epoch: 86/100 Train Loss: 0.01000 Acc: 0.54874\n",
      "Begin test......\n",
      "Test Loss: 0.00946 Acc: 0.57000\n",
      "Epoch: 87/100 Train Loss: 0.00999 Acc: 0.54756\n",
      "Begin test......\n",
      "Test Loss: 0.00967 Acc: 0.56010\n",
      "Epoch: 88/100 Train Loss: 0.01003 Acc: 0.54584\n",
      "Begin test......\n",
      "Test Loss: 0.00950 Acc: 0.57580\n",
      "Epoch: 89/100 Train Loss: 0.01001 Acc: 0.54592\n",
      "Begin test......\n",
      "Test Loss: 0.00915 Acc: 0.59180\n",
      "Epoch: 90/100 Train Loss: 0.00996 Acc: 0.54840\n",
      "Begin test......\n",
      "Test Loss: 0.00940 Acc: 0.57330\n",
      "Epoch: 91/100 Train Loss: 0.00999 Acc: 0.54712\n",
      "Begin test......\n",
      "Test Loss: 0.00915 Acc: 0.58960\n",
      "Epoch: 92/100 Train Loss: 0.01005 Acc: 0.54414\n",
      "Begin test......\n",
      "Test Loss: 0.00923 Acc: 0.58820\n",
      "Epoch: 93/100 Train Loss: 0.01000 Acc: 0.54534\n",
      "Begin test......\n",
      "Test Loss: 0.00923 Acc: 0.58890\n",
      "Epoch: 94/100 Train Loss: 0.00999 Acc: 0.54708\n",
      "Begin test......\n",
      "Test Loss: 0.00965 Acc: 0.57430\n",
      "Epoch: 95/100 Train Loss: 0.00997 Acc: 0.54830\n",
      "Begin test......\n",
      "Test Loss: 0.01015 Acc: 0.54010\n",
      "Epoch: 96/100 Train Loss: 0.01000 Acc: 0.54860\n",
      "Begin test......\n",
      "Test Loss: 0.01074 Acc: 0.52740\n",
      "Epoch: 97/100 Train Loss: 0.00998 Acc: 0.54560\n",
      "Begin test......\n",
      "Test Loss: 0.00950 Acc: 0.57120\n",
      "Epoch: 98/100 Train Loss: 0.00999 Acc: 0.54750\n",
      "Begin test......\n",
      "Test Loss: 0.00950 Acc: 0.57230\n",
      "Epoch: 99/100 Train Loss: 0.01000 Acc: 0.54604\n",
      "Begin test......\n",
      "Test Loss: 0.01011 Acc: 0.54120\n",
      "Epoch: 100/100 Train Loss: 0.00995 Acc: 0.54888\n",
      "Begin test......\n",
      "Test Loss: 0.01022 Acc: 0.54380\n",
      "train_time:758.9063\n"
     ]
    }
   ],
   "source": [
    "training_loss = []\n",
    "training_acc = []\n",
    "testing_loss = []\n",
    "testing_acc = []\n",
    "\n",
    "T1 = time.perf_counter() \n",
    "for epoch in range(NUM_EPOCHS):\n",
    "    model.train()\n",
    "    torch.cuda.empty_cache()\n",
    "\n",
    "    ##########################\n",
    "    ### Training\n",
    "    ##########################\n",
    "\n",
    "    running_cls_loss = 0.0\n",
    "    running_cls_corrects = 0\n",
    "\n",
    "    for batch_idx, (image, target) in enumerate(train_dataloader):\n",
    "\n",
    "        image = image.to(device)\n",
    "        target = target.to(device)\n",
    "\n",
    "        # train model\n",
    "        outputs, loss = train_batch(model, image, target)\n",
    "        _, preds = torch.max(outputs, 1)\n",
    "\n",
    "        \n",
    "        loss_data = loss.data.item()\n",
    "        if np.isnan(loss_data):\n",
    "            raise ValueError('loss is nan while training')\n",
    "        running_cls_loss += loss.item()\n",
    "        running_cls_corrects += torch.sum(preds == target.data)\n",
    "\n",
    "        loss.backward()\n",
    "        optimizer.step()\n",
    "        optimizer.zero_grad()\n",
    "\n",
    "    epoch_loss = running_cls_loss / len(train_set)\n",
    "    epoch_acc = running_cls_corrects.double() / len(train_set)\n",
    "\n",
    "    print(f'Epoch: {epoch+1}/{NUM_EPOCHS} Train Loss: {epoch_loss:.5f} Acc: {epoch_acc:.5f}')\n",
    "\n",
    "    training_loss.append(epoch_loss)\n",
    "    training_acc.append(epoch_acc.cpu().detach().numpy())\n",
    "\n",
    "    # change learning rate\n",
    "#     scheduler.step()\n",
    "\n",
    "\n",
    "    ##########################\n",
    "    ### Testing\n",
    "    ##########################\n",
    "    # # eval model during training or in the last epoch\n",
    "    if (epoch + 1) % EVAL_INTERVAL == 0 or (epoch +1) == NUM_EPOCHS:\n",
    "        print('Begin test......')\n",
    "        model.eval()\n",
    "    \n",
    "        val_loss = 0.0\n",
    "        val_corrects = 0\n",
    "\n",
    "        for batch_idx, (image, target) in enumerate(test_dataloader):\n",
    "\n",
    "            image = image.to(device)\n",
    "            target = target.to(device)\n",
    "\n",
    "            # test model\n",
    "            outputs, loss = test_batch(model, image, target)\n",
    "            _, preds = torch.max(outputs, 1)\n",
    "            \n",
    "            val_loss += loss.item()\n",
    "            val_corrects += torch.sum(preds == target.data)\n",
    "\n",
    "        val_loss = val_loss / len(test_set)\n",
    "        val_acc = val_corrects.double() / len(test_set)\n",
    "        \n",
    "        data_point = {\"Loss\": val_loss, \"Acc\": val_acc}\n",
    "        data_list2.append(data_point)\n",
    "        \n",
    "        print(f'Test Loss: {val_loss:.5f} Acc: {val_acc:.5f}')\n",
    "        testing_loss.append(val_loss)\n",
    "        testing_acc.append(val_acc.cpu().detach().numpy())\n",
    "\n",
    "        # save the model in last epoch\n",
    "        if (epoch +1) == NUM_EPOCHS:\n",
    "            \n",
    "            state = {\n",
    "            'state_dict': model.state_dict(),\n",
    "            'acc': epoch_acc,\n",
    "            'epoch': (epoch+1),\n",
    "            }\n",
    "\n",
    "            # check the dir\n",
    "            if not os.path.exists(SAVE_DIR):\n",
    "                os.makedirs(SAVE_DIR)\n",
    "\n",
    "            # save the state\n",
    "            torch.save(state, osp.join(SAVE_DIR, 'checkpoint_%s.pth' % (str(epoch+1))))\n",
    "            \n",
    "#         #early stop patience 5\n",
    "#         if val_loss < best_val_loss:\n",
    "#             best_val_loss = val_loss\n",
    "#             early_stopping_counter = 0  # Reset the counter if there's an improvement\n",
    "#         else:\n",
    "#             early_stopping_counter += 1\n",
    "\n",
    "#         if early_stopping_counter >= early_stopping_patience:\n",
    "#             print(\"Early stopping. No improvement for {} epochs.\".format(early_stopping_patience))\n",
    "#             break  # Exit the training loop\n",
    "\n",
    "T2= time.perf_counter() \n",
    "\n",
    "print(f'train_time:{T2-T1:.4f}')"
   ]
  },
  {
   "cell_type": "code",
   "execution_count": 14,
   "metadata": {
    "jupyter": {
     "source_hidden": true
    }
   },
   "outputs": [],
   "source": [
    "# Save data_list1 to a file\n",
    "with open('SGD_nomomentum100.pkl', 'wb') as file:\n",
    "    pickle.dump(data_list2, file)"
   ]
  },
  {
   "cell_type": "code",
   "execution_count": 15,
   "metadata": {},
   "outputs": [
    {
     "data": {
      "image/png": "[encoded data removed]",
      "text/plain": [
       "<Figure size 800x600 with 2 Axes>"
      ]
     },
     "metadata": {},
     "output_type": "display_data"
    }
   ],
   "source": [
    "# Your 2D array\n",
    "data = data_list2\n",
    "\n",
    "# Extract Loss and Acc values, and move tensors to CPU\n",
    "loss_values = [point['Loss'] for point in data_list2]\n",
    "acc_values = [point['Acc'].cpu().item() for point in data_list2]\n",
    "\n",
    "# Create a list of x-axis labels (epochs)\n",
    "epochs = list(range(1, len(loss_values) + 1))\n",
    "\n",
    "# Create separate subplots for Loss and Accuracy\n",
    "fig, (ax1, ax2) = plt.subplots(2, 1, sharex=True, figsize=(8, 6))\n",
    "\n",
    "# Plot Loss\n",
    "ax1.plot(epochs, loss_values, label='Loss', color='red')\n",
    "ax1.set_ylabel('Loss')\n",
    "ax1.grid(True)\n",
    "\n",
    "# Plot Accuracy\n",
    "ax2.plot(epochs, acc_values, label='Accuracy', color='blue')\n",
    "ax2.set_xlabel('Epoch')\n",
    "ax2.set_ylabel('Accuracy')\n",
    "ax2.grid(True)\n",
    "\n",
    "# Add titles\n",
    "ax1.set_title('Loss Over Epochs')\n",
    "ax2.set_title('Accuracy Over Epochs')\n",
    "\n",
    "# Display the plot\n",
    "plt.tight_layout()\n",
    "plt.show()"
   ]
  },
  {
   "cell_type": "markdown",
   "metadata": {},
   "source": [
    "# plot 3"
   ]
  },
  {
   "cell_type": "markdown",
   "metadata": {},
   "source": [
    "### change the files manually"
   ]
  },
  {
   "cell_type": "code",
   "execution_count": null,
   "metadata": {},
   "outputs": [],
   "source": [
    "# Function to load data from a pickled file\n",
    "def load_data(filename):\n",
    "    with open(filename, 'rb') as file:\n",
    "        data = pickle.load(file)\n",
    "    return data\n",
    "\n",
    "# Load data from the three pickled files\n",
    "data_list_1e1 = load_data('SGD_nomomentum1.pkl')\n",
    "data_list_1e2 = load_data('SGD_nomomentum2.pkl')\n",
    "data_list_1e3 = load_data('SGD_nomomentum3.pkl')\n",
    "\n",
    "# Create subplots for Loss and Accuracy\n",
    "fig, (ax1, ax2) = plt.subplots(2, 1, sharex=True, figsize=(8, 6))\n",
    "\n",
    "# Plot Loss for each learning rate\n",
    "ax1.plot(range(1, len(data_list_1e1) + 1), [point['Loss'] for point in data_list_1e1], label='1e-1', linestyle='-')\n",
    "ax1.plot(range(1, len(data_list_1e2) + 1), [point['Loss'] for point in data_list_1e2], label='1e-2', linestyle='-')\n",
    "ax1.plot(range(1, len(data_list_1e3) + 1), [point['Loss'] for point in data_list_1e3], label='1e-3', linestyle='-')\n",
    "ax1.set_ylabel('Loss')\n",
    "ax1.grid(True)\n",
    "\n",
    "# Plot Accuracy for each learning rate\n",
    "ax2.plot(range(1, len(data_list_1e1) + 1), [float(str(point['Acc']).split('tensor(')[-1].split(',')[0]) for point in data_list_1e1], label='1e-1', linestyle='-')\n",
    "ax2.plot(range(1, len(data_list_1e2) + 1), [float(str(point['Acc']).split('tensor(')[-1].split(',')[0]) for point in data_list_1e2], label='1e-2', linestyle='-')\n",
    "ax2.plot(range(1, len(data_list_1e3) + 1), [float(str(point['Acc']).split('tensor(')[-1].split(',')[0]) for point in data_list_1e3], label='1e-3', linestyle='-')\n",
    "ax2.set_xlabel('Epoch')\n",
    "ax2.set_ylabel('Accuracy')\n",
    "ax2.grid(True)\n",
    "\n",
    "# Add titles and legends\n",
    "ax1.set_title('Loss Over Epochs')\n",
    "ax2.set_title('Accuracy Over Epochs')\n",
    "ax1.legend(title='Learning Rate')\n",
    "\n",
    "# Display the plot\n",
    "plt.tight_layout()\n",
    "plt.savefig('SGD_nomomentum.png')\n",
    "plt.show()"
   ]
  }
 ],
 "metadata": {
  "kernelspec": {
   "display_name": "Python 3 (ipykernel)",
   "language": "python",
   "name": "python3"
  },
  "language_info": {
   "codemirror_mode": {
    "name": "ipython",
    "version": 3
   },
   "file_extension": ".py",
   "mimetype": "text/x-python",
   "name": "python",
   "nbconvert_exporter": "python",
   "pygments_lexer": "ipython3",
   "version": "3.10.12"
  }
 },
 "nbformat": 4,
 "nbformat_minor": 4
}
