{
 "cells": [
  {
   "cell_type": "markdown",
   "metadata": {},
   "source": [
    "# Assignment 01: Multi-class Classification \n",
    "In this Assignment, you will train a deep model on the CIFAR10 from the scratch using PyTorch."
   ]
  },
  {
   "cell_type": "markdown",
   "metadata": {},
   "source": [
    "### Basic Imports"
   ]
  },
  {
   "cell_type": "code",
   "execution_count": 1,
   "metadata": {},
   "outputs": [],
   "source": [
    "import os\n",
    "import time\n",
    "import os.path as osp\n",
    "import random\n",
    "import numpy as np\n",
    "\n",
    "import pandas as pd\n",
    "\n",
    "import torch\n",
    "import torch.nn as nn\n",
    "import torch.nn.functional as F\n",
    "import torch.optim as optim\n",
    "from torch.utils.data import DataLoader\n",
    "\n",
    "import torchvision.models as models\n",
    "from torchvision import datasets\n",
    "from torchvision import transforms\n",
    "from torchvision import models\n",
    "import torchvision\n",
    "\n",
    "import matplotlib.pyplot as plt\n",
    "from PIL import Image, ImageDraw, ImageFont"
   ]
  },
  {
   "cell_type": "markdown",
   "metadata": {},
   "source": [
    "### Hyperparameters"
   ]
  },
  {
   "cell_type": "code",
   "execution_count": 2,
   "metadata": {},
   "outputs": [],
   "source": [
    "# random seed\n",
    "SEED = 1 \n",
    "NUM_CLASS = 10\n",
    "\n",
    "# Training\n",
    "BATCH_SIZE = 16\n",
    "NUM_EPOCHS = 30\n",
    "EVAL_INTERVAL=1\n",
    "SAVE_DIR = './log'\n",
    "\n",
    "# Optimizer\n",
    "LEARNING_RATE = 1e-1\n",
    "MOMENTUM = 0.9\n",
    "STEP=5\n",
    "GAMMA=0.5\n"
   ]
  },
  {
   "cell_type": "markdown",
   "metadata": {},
   "source": [
    "### Device"
   ]
  },
  {
   "cell_type": "code",
   "execution_count": 3,
   "metadata": {},
   "outputs": [],
   "source": [
    "device = torch.device(\"cuda:0\" if torch.cuda.is_available() else \"cpu\")"
   ]
  },
  {
   "cell_type": "markdown",
   "metadata": {},
   "source": [
    "\n",
    "### Dataset\n"
   ]
  },
  {
   "cell_type": "code",
   "execution_count": 4,
   "metadata": {},
   "outputs": [
    {
     "name": "stdout",
     "output_type": "stream",
     "text": [
      "Files already downloaded and verified\n",
      "Files already downloaded and verified\n"
     ]
    }
   ],
   "source": [
    "# cifar10 transform\n",
    "transform_cifar10_train = transforms.Compose([\n",
    "    transforms.RandomCrop(32, padding=4),\n",
    "    transforms.RandomHorizontalFlip(),\n",
    "    transforms.ToTensor(),\n",
    "    transforms.Normalize((0.4914, 0.4822, 0.4465), (0.2023, 0.1994, 0.2010)),\n",
    "])\n",
    "\n",
    "transform_cifar10_test = transforms.Compose([\n",
    "    transforms.ToTensor(),\n",
    "    transforms.Normalize((0.4914, 0.4822, 0.4465), (0.2023, 0.1994, 0.2010)),\n",
    "])\n",
    "\n",
    "train_set = torchvision.datasets.CIFAR10(root='../data', train=True,\n",
    "                                        download=True, transform=transform_cifar10_train)\n",
    "train_dataloader = torch.utils.data.DataLoader(train_set, batch_size=BATCH_SIZE,\n",
    "                                          shuffle=True, num_workers=2)\n",
    "\n",
    "test_set = torchvision.datasets.CIFAR10(root='../data', train=False,\n",
    "                                       download=True, transform=transform_cifar10_test)\n",
    "test_dataloader = torch.utils.data.DataLoader(test_set, batch_size=BATCH_SIZE,\n",
    "                                         shuffle=False, num_workers=2)\n",
    "\n",
    "class_names = ['airplane', 'automobile', 'bird', 'cat', 'deer', 'dog', 'frog', 'horse', 'ship', 'truck']\n"
   ]
  },
  {
   "cell_type": "markdown",
   "metadata": {},
   "source": [
    "### Model"
   ]
  },
  {
   "cell_type": "code",
   "execution_count": 5,
   "metadata": {},
   "outputs": [],
   "source": [
    "class ConvNet(nn.Module):\n",
    "    def __init__(self):\n",
    "        super(ConvNet, self).__init__()\n",
    "        self.conv1 = nn.Conv2d(3, 4, 3)  \n",
    "        self.pool = nn.MaxPool2d(2, 2)\n",
    "        self.conv2 = nn.Conv2d(4, 8, 3)  \n",
    "        self.fc1 = nn.Linear(8 * 6 * 6, 32)\n",
    "        self.fc2 = nn.Linear(32, 10)\n",
    "\n",
    "    def forward(self, x):\n",
    "        x = self.pool(torch.relu(self.conv1(x)))\n",
    "        x = self.pool(torch.relu(self.conv2(x)))\n",
    "        x = x.view(-1, 8 * 6 * 6)\n",
    "        x = torch.relu(self.fc1(x))\n",
    "        x = self.fc2(x)\n",
    "        return x"
   ]
  },
  {
   "cell_type": "code",
   "execution_count": 6,
   "metadata": {},
   "outputs": [
    {
     "data": {
      "text/plain": [
       "ConvNet(\n",
       "  (conv1): Conv2d(3, 4, kernel_size=(3, 3), stride=(1, 1))\n",
       "  (pool): MaxPool2d(kernel_size=2, stride=2, padding=0, dilation=1, ceil_mode=False)\n",
       "  (conv2): Conv2d(4, 8, kernel_size=(3, 3), stride=(1, 1))\n",
       "  (fc1): Linear(in_features=288, out_features=32, bias=True)\n",
       "  (fc2): Linear(in_features=32, out_features=10, bias=True)\n",
       ")"
      ]
     },
     "execution_count": 6,
     "metadata": {},
     "output_type": "execute_result"
    }
   ],
   "source": [
    "model = ConvNet()\n",
    "model.to(device)"
   ]
  },
  {
   "cell_type": "markdown",
   "metadata": {},
   "source": [
    "### Optimizer"
   ]
  },
  {
   "cell_type": "code",
   "execution_count": 7,
   "metadata": {},
   "outputs": [],
   "source": [
    "optimizer = optim.SGD(model.parameters(), lr=LEARNING_RATE, momentum=MOMENTUM)\n",
    "\n",
    "scheduler = torch.optim.lr_scheduler.StepLR(optimizer, step_size=STEP, gamma=GAMMA)"
   ]
  },
  {
   "cell_type": "markdown",
   "metadata": {},
   "source": [
    "### Task 1: per batch training/testing\n",
    "---\n",
    "\n",
    "Please denfine two function named ``train_batch`` and ``test_batch``. These functions are essential for training and evaluating machine learning models using batched data from dataloaders.\n",
    "\n",
    "**To do**: \n",
    "1. Define the loss function i.e [nn.CrossEntropyLoss()](https://pytorch.org/docs/stable/generated/torch.nn.CrossEntropyLoss.html).\n",
    "2. Take the image as the input and generate the output using the pre-defined SimpleNet.\n",
    "3. Calculate the loss between the output and the corresponding label using the loss function."
   ]
  },
  {
   "cell_type": "code",
   "execution_count": 8,
   "metadata": {},
   "outputs": [],
   "source": [
    "class FocalLoss(nn.Module):\n",
    "    def __init__(self, gamma=2, alpha=0.25):\n",
    "        super(FocalLoss, self).__init__()\n",
    "        self.gamma = gamma\n",
    "        self.alpha = alpha\n",
    "\n",
    "    def forward(self, inputs, targets):\n",
    "        # Compute the focal loss\n",
    "        BCE_loss = F.cross_entropy(inputs, targets, reduction='none')\n",
    "        pt = torch.exp(-BCE_loss)  # Probability of true class\n",
    "        focal_loss = (self.alpha * (1 - pt) ** self.gamma * BCE_loss).mean()\n",
    "        return focal_loss"
   ]
  },
  {
   "cell_type": "code",
   "execution_count": 9,
   "metadata": {},
   "outputs": [],
   "source": [
    "##################### Write your answer here ##################\n",
    "# Define the loss function\n",
    "criterion = FocalLoss(gamma=2, alpha=0.25)\n",
    "###############################################################"
   ]
  },
  {
   "cell_type": "code",
   "execution_count": 10,
   "metadata": {},
   "outputs": [],
   "source": [
    "def train_batch(model, image, target):\n",
    "    \"\"\"\n",
    "    Perform one training batch iteration.\n",
    "\n",
    "    Args:\n",
    "        model (torch.nn.Module): The machine learning model to train.\n",
    "        image (torch.Tensor): Batch of input data (images).\n",
    "        target (torch.Tensor): Batch of target labels.\n",
    "\n",
    "    Returns:\n",
    "        torch.Tensor: Model output (predictions) for the batch.\n",
    "        torch.Tensor: Loss value calculated by the defined loss function loss_fn().\n",
    "    \"\"\"\n",
    "    \n",
    "    ##################### Write your answer here ################## \n",
    "    output = model(image)\n",
    "    loss = criterion(output, target)\n",
    "    \n",
    "    ###############################################################\n",
    "\n",
    "    return output, loss"
   ]
  },
  {
   "cell_type": "code",
   "execution_count": 11,
   "metadata": {},
   "outputs": [],
   "source": [
    "\n",
    "def test_batch(model, image, target):\n",
    "    \"\"\"\n",
    "    Perform one testing batch iteration.\n",
    "\n",
    "    Args:\n",
    "        model (torch.nn.Module): The machine learning model to evaluate.\n",
    "        image (torch.Tensor): Batch of input data (images).\n",
    "        target (torch.Tensor): Batch of target labels.\n",
    "\n",
    "    Returns:\n",
    "        torch.Tensor: Model output (predictions) for the batch.\n",
    "        torch.Tensor: Loss value calculated for the batch.\n",
    "    \"\"\"\n",
    "\n",
    "    ##################### Write your answer here ##################\n",
    "    #output = model(image)\n",
    "    output = model(image)\n",
    "    loss = criterion(output, target)\n",
    "    #loss_fn = nn.CrossEntropyLoss()\n",
    "    #loss_fn =ce_loss(output, target)\n",
    "    #loss_fn = nn.L1Loss()\n",
    "    #loss_fn =focal_loss_gamma_0_5(output, target)\n",
    "    #loss_fn =focal_loss_gamma_2(output, target)\n",
    "    #loss = loss_fn(output, target)  \n",
    "    ###############################################################\n",
    "\n",
    "    return output, loss"
   ]
  },
  {
   "cell_type": "code",
   "execution_count": 12,
   "metadata": {},
   "outputs": [],
   "source": [
    "def train_and_evaluate(learning_rate, momentum, gamma, step, EVAL_INTERVAL):\n",
    "    # Define your model, optimizer, and other necessary components\n",
    "    device = torch.device(\"cuda:0\" if torch.cuda.is_available() else \"cpu\")\n",
    "    NUM_CLASS = 10\n",
    "    BATCH_SIZE = 64\n",
    "    NUM_EPOCHS = 30\n",
    "    SAVE_DIR = './log'\n",
    "    transform_cifar10_train = transforms.Compose([\n",
    "        transforms.RandomCrop(32, padding=4),\n",
    "        transforms.RandomHorizontalFlip(),\n",
    "        transforms.ToTensor(),\n",
    "        transforms.Normalize((0.4914, 0.4822, 0.4465), (0.2023, 0.1994, 0.2010)),\n",
    "    ])\n",
    "\n",
    "    transform_cifar10_test = transforms.Compose([\n",
    "        transforms.ToTensor(),\n",
    "        transforms.Normalize((0.4914, 0.4822, 0.4465), (0.2023, 0.1994, 0.2010)),\n",
    "    ])\n",
    "\n",
    "    train_set = torchvision.datasets.CIFAR10(root='../data', train=True,\n",
    "                                             download=True, transform=transform_cifar10_train)\n",
    "\n",
    "    train_dataloader = torch.utils.data.DataLoader(train_set, batch_size=BATCH_SIZE,\n",
    "                                                   shuffle=True, num_workers=2)\n",
    "\n",
    "    test_set = torchvision.datasets.CIFAR10(root='../data', train=False,\n",
    "                                            download=True, transform=transform_cifar10_test)\n",
    "\n",
    "    test_dataloader = torch.utils.data.DataLoader(test_set, batch_size=BATCH_SIZE,\n",
    "                                                  shuffle=False, num_workers=2)\n",
    "\n",
    "\n",
    "    model = models.resnet18(weights=None)\n",
    "    num_features = model.fc.in_features\n",
    "    model.fc = nn.Linear(num_features, NUM_CLASS)\n",
    "    model.to(device)\n",
    "\n",
    "    optimizer = optim.SGD(model.parameters(), lr=learning_rate, momentum=momentum)\n",
    "    scheduler = torch.optim.lr_scheduler.StepLR(optimizer, step_size=step, gamma=gamma)"
   ]
  },
  {
   "cell_type": "markdown",
   "metadata": {},
   "source": [
    "### Model Training"
   ]
  },
  {
   "cell_type": "code",
   "execution_count": 13,
   "metadata": {},
   "outputs": [
    {
     "name": "stdout",
     "output_type": "stream",
     "text": [
      "Epoch: 1/30 Train Loss: 0.0228 Acc: 0.2616\n",
      "Begin test......\n",
      "Test Loss: 0.0233 Acc: 0.2725\n",
      "Epoch: 2/30 Train Loss: 0.0220 Acc: 0.2817\n",
      "Begin test......\n",
      "Test Loss: 0.0204 Acc: 0.3037\n",
      "Epoch: 3/30 Train Loss: 0.0220 Acc: 0.2785\n",
      "Begin test......\n",
      "Test Loss: 0.0205 Acc: 0.2986\n",
      "Epoch: 4/30 Train Loss: 0.0221 Acc: 0.2780\n",
      "Begin test......\n",
      "Test Loss: 0.0202 Acc: 0.3288\n",
      "Epoch: 5/30 Train Loss: 0.0218 Acc: 0.2836\n",
      "Begin test......\n",
      "Test Loss: 0.0208 Acc: 0.3011\n",
      "Epoch: 6/30 Train Loss: 0.0207 Acc: 0.3085\n",
      "Begin test......\n",
      "Test Loss: 0.0197 Acc: 0.3212\n",
      "Epoch: 7/30 Train Loss: 0.0203 Acc: 0.3166\n",
      "Begin test......\n",
      "Test Loss: 0.0189 Acc: 0.3573\n",
      "Epoch: 8/30 Train Loss: 0.0201 Acc: 0.3250\n",
      "Begin test......\n",
      "Test Loss: 0.0192 Acc: 0.3398\n",
      "Epoch: 9/30 Train Loss: 0.0201 Acc: 0.3246\n",
      "Begin test......\n",
      "Test Loss: 0.0194 Acc: 0.3342\n",
      "Epoch: 10/30 Train Loss: 0.0200 Acc: 0.3244\n",
      "Begin test......\n",
      "Test Loss: 0.0189 Acc: 0.3534\n",
      "Epoch: 11/30 Train Loss: 0.0192 Acc: 0.3489\n",
      "Begin test......\n",
      "Test Loss: 0.0179 Acc: 0.3856\n",
      "Epoch: 12/30 Train Loss: 0.0191 Acc: 0.3512\n",
      "Begin test......\n",
      "Test Loss: 0.0176 Acc: 0.3876\n",
      "Epoch: 13/30 Train Loss: 0.0189 Acc: 0.3553\n",
      "Begin test......\n",
      "Test Loss: 0.0176 Acc: 0.3917\n",
      "Epoch: 14/30 Train Loss: 0.0188 Acc: 0.3603\n",
      "Begin test......\n",
      "Test Loss: 0.0173 Acc: 0.3967\n",
      "Epoch: 15/30 Train Loss: 0.0188 Acc: 0.3605\n",
      "Begin test......\n",
      "Test Loss: 0.0175 Acc: 0.3977\n",
      "Epoch: 16/30 Train Loss: 0.0182 Acc: 0.3743\n",
      "Begin test......\n",
      "Test Loss: 0.0168 Acc: 0.4090\n",
      "Epoch: 17/30 Train Loss: 0.0181 Acc: 0.3784\n",
      "Begin test......\n",
      "Test Loss: 0.0169 Acc: 0.4062\n",
      "Epoch: 18/30 Train Loss: 0.0180 Acc: 0.3787\n",
      "Begin test......\n",
      "Test Loss: 0.0168 Acc: 0.3967\n",
      "Epoch: 19/30 Train Loss: 0.0180 Acc: 0.3813\n",
      "Begin test......\n",
      "Test Loss: 0.0166 Acc: 0.4153\n",
      "Epoch: 20/30 Train Loss: 0.0179 Acc: 0.3851\n",
      "Begin test......\n",
      "Test Loss: 0.0167 Acc: 0.4087\n",
      "Epoch: 21/30 Train Loss: 0.0175 Acc: 0.3958\n",
      "Begin test......\n",
      "Test Loss: 0.0161 Acc: 0.4322\n",
      "Epoch: 22/30 Train Loss: 0.0174 Acc: 0.3943\n",
      "Begin test......\n",
      "Test Loss: 0.0160 Acc: 0.4332\n",
      "Epoch: 23/30 Train Loss: 0.0173 Acc: 0.4021\n",
      "Begin test......\n",
      "Test Loss: 0.0162 Acc: 0.4256\n",
      "Epoch: 24/30 Train Loss: 0.0172 Acc: 0.4036\n",
      "Begin test......\n",
      "Test Loss: 0.0160 Acc: 0.4373\n",
      "Epoch: 25/30 Train Loss: 0.0172 Acc: 0.4003\n",
      "Begin test......\n",
      "Test Loss: 0.0158 Acc: 0.4377\n",
      "Epoch: 26/30 Train Loss: 0.0169 Acc: 0.4114\n",
      "Begin test......\n",
      "Test Loss: 0.0156 Acc: 0.4441\n",
      "Epoch: 27/30 Train Loss: 0.0168 Acc: 0.4120\n",
      "Begin test......\n",
      "Test Loss: 0.0155 Acc: 0.4483\n",
      "Epoch: 28/30 Train Loss: 0.0168 Acc: 0.4122\n",
      "Begin test......\n",
      "Test Loss: 0.0155 Acc: 0.4486\n",
      "Epoch: 29/30 Train Loss: 0.0167 Acc: 0.4181\n",
      "Begin test......\n",
      "Test Loss: 0.0154 Acc: 0.4490\n",
      "Epoch: 30/30 Train Loss: 0.0166 Acc: 0.4167\n",
      "Begin test......\n",
      "Test Loss: 0.0154 Acc: 0.4426\n"
     ]
    }
   ],
   "source": [
    "training_loss = []\n",
    "training_acc = []\n",
    "testing_loss = []\n",
    "testing_acc = []\n",
    "\n",
    "for epoch in range(NUM_EPOCHS):\n",
    "    model.train()\n",
    "    torch.cuda.empty_cache()\n",
    "\n",
    "    ##########################\n",
    "    ### Training\n",
    "    ##########################\n",
    "\n",
    "    running_cls_loss = 0.0\n",
    "    running_cls_corrects = 0\n",
    "\n",
    "    for batch_idx, (image, target) in enumerate(train_dataloader):\n",
    "\n",
    "        image = image.to(device)\n",
    "        target = target.to(device)\n",
    "\n",
    "        # train model\n",
    "        outputs, loss = train_batch(model, image, target)\n",
    "        _, preds = torch.max(outputs, 1)\n",
    "\n",
    "        \n",
    "        loss_data = loss.data.item()\n",
    "        if np.isnan(loss_data):\n",
    "            raise ValueError('loss is nan while training')\n",
    "        running_cls_loss += loss.item()\n",
    "        running_cls_corrects += torch.sum(preds == target.data)\n",
    "\n",
    "        loss.backward()\n",
    "        optimizer.step()\n",
    "        optimizer.zero_grad()\n",
    "\n",
    "    epoch_loss = running_cls_loss / len(train_set)\n",
    "    epoch_acc = running_cls_corrects.double() / len(train_set)\n",
    "\n",
    "    print(f'Epoch: {epoch+1}/{NUM_EPOCHS} Train Loss: {epoch_loss:.4f} Acc: {epoch_acc:.4f}')\n",
    "\n",
    "    training_loss.append(epoch_loss)\n",
    "    training_acc.append(epoch_acc.cpu().detach().numpy())\n",
    "\n",
    "    # change learning rate\n",
    "    scheduler.step()\n",
    "\n",
    "\n",
    "    ##########################\n",
    "    ### Testing\n",
    "    ##########################\n",
    "    # # eval model during training or in the last epoch\n",
    "    if (epoch + 1) % EVAL_INTERVAL == 0 or (epoch +1) == NUM_EPOCHS:\n",
    "        print('Begin test......')\n",
    "        model.eval()\n",
    "    \n",
    "        val_loss = 0.0\n",
    "        val_corrects = 0\n",
    "\n",
    "        for batch_idx, (image, target) in enumerate(test_dataloader):\n",
    "\n",
    "            image = image.to(device)\n",
    "            target = target.to(device)\n",
    "\n",
    "            # test model\n",
    "            outputs, loss = test_batch(model, image, target)\n",
    "            _, preds = torch.max(outputs, 1)\n",
    "            \n",
    "            val_loss += loss.item()\n",
    "            val_corrects += torch.sum(preds == target.data)\n",
    "\n",
    "        val_loss = val_loss / len(test_set)\n",
    "        val_acc = val_corrects.double() / len(test_set)\n",
    "        print(f'Test Loss: {val_loss:.4f} Acc: {val_acc:.4f}')\n",
    "        testing_loss.append(val_loss)\n",
    "        testing_acc.append(val_acc.cpu().detach().numpy())\n",
    "\n",
    "        # save the model in last epoch\n",
    "        if (epoch +1) == NUM_EPOCHS:\n",
    "            \n",
    "            state = {\n",
    "            'state_dict': model.state_dict(),\n",
    "            'acc': epoch_acc,\n",
    "            'epoch': (epoch+1),\n",
    "            }\n",
    "\n",
    "            # check the dir\n",
    "            if not os.path.exists(SAVE_DIR):\n",
    "                os.makedirs(SAVE_DIR)\n",
    "\n",
    "            # save the state\n",
    "            torch.save(state, osp.join(SAVE_DIR, 'checkpoint_%s.pth' % (str(epoch+1))))\n",
    "            \n",
    "            \n",
    "def train_and_evaluate(learning_rate, momentum, gamma, step, EVAL_INTERVAL):\n",
    "    # Define your model, optimizer, and loss function\n",
    "    model = ConvNet()\n",
    "    model.to(device)\n",
    "    optimizer = optim.SGD(model.parameters(), lr=learning_rate, momentum=momentum)\n",
    "    loss_fn = MAELoss()\n",
    "\n",
    "    results = []\n",
    "\n",
    "    for epoch in range(NUM_EPOCHS):\n",
    "        # Your training code here\n",
    "\n",
    "        if (epoch + 1) % EVAL_INTERVAL == 0 or (epoch + 1) == NUM_EPOCHS:\n",
    "            print('Begin test...')\n",
    "            model.eval()\n",
    "\n",
    "            # Your testing code here\n",
    "\n",
    "            # Calculate testing loss and accuracy\n",
    "            testing_loss.append(test_loss)\n",
    "            testing_acc.append(test_acc)\n",
    "\n",
    "        # Your code to save the model in the last epoch\n",
    "\n",
    "    return model\n",
    "\n",
    "# Call train_and_evaluate function with your desired hyperparameters\n",
    "#result = train_and_evaluate(learning_rate, momentum, gamma, step, EVAL_INTERVAL)\n",
    "\n",
    "# Append the result to the results list\n",
    "#results.append(result)\n",
    "\n",
    "\n",
    "\n",
    "\n",
    "\n",
    "\n"
   ]
  },
  {
   "cell_type": "code",
   "execution_count": 14,
   "metadata": {},
   "outputs": [
    {
     "name": "stdout",
     "output_type": "stream",
     "text": [
      "[0.022810655694305897, 0.021975394102334976, 0.021986088449954987, 0.022065309299528598, 0.021752944081425668, 0.020695241120159625, 0.020301029237508775, 0.020124019401073456, 0.02010014475017786, 0.020029142828285693, 0.019198041871488096, 0.019055796750187873, 0.018880323963463307, 0.018806606690883635, 0.018765231656432152, 0.018244783155918123, 0.018144927747845648, 0.018049067487418653, 0.017956874883770943, 0.017860967369079588, 0.017484441711604595, 0.017371509951651095, 0.017273539490401744, 0.01722072092756629, 0.01718489989116788, 0.01690555002003908, 0.01676330245614052, 0.01680371741488576, 0.016695727519094945, 0.016595220867544412] [array(0.26156), array(0.28172), array(0.2785), array(0.27796), array(0.2836), array(0.3085), array(0.31658), array(0.32502), array(0.32464), array(0.32444), array(0.34894), array(0.3512), array(0.35526), array(0.3603), array(0.36046), array(0.37434), array(0.37836), array(0.37872), array(0.38132), array(0.38514), array(0.39578), array(0.39434), array(0.40208), array(0.40356), array(0.40026), array(0.41144), array(0.41198), array(0.41222), array(0.41806), array(0.41672)] [0.023302397021651267, 0.020422650019824504, 0.020548231048882006, 0.020186378863453865, 0.02077578868418932, 0.019745890440046786, 0.018883807633817196, 0.019216245122253894, 0.01943101252168417, 0.018925570566952227, 0.017909660696983336, 0.01758001420497894, 0.01756118405908346, 0.017339034904539585, 0.017454256483912467, 0.016839101988077164, 0.016873700401186943, 0.01679514971077442, 0.01662282550483942, 0.016675183683633805, 0.016145419313013554, 0.01602446338534355, 0.016162589414417745, 0.016031201894581317, 0.01582655425220728, 0.015550112599134445, 0.015491078338027, 0.015488525478541851, 0.01537153519243002, 0.015416347429156303] [array(0.2725), array(0.3037), array(0.2986), array(0.3288), array(0.3011), array(0.3212), array(0.3573), array(0.3398), array(0.3342), array(0.3534), array(0.3856), array(0.3876), array(0.3917), array(0.3967), array(0.3977), array(0.409), array(0.4062), array(0.3967), array(0.4153), array(0.4087), array(0.4322), array(0.4332), array(0.4256), array(0.4373), array(0.4377), array(0.4441), array(0.4483), array(0.4486), array(0.449), array(0.4426)]\n"
     ]
    }
   ],
   "source": [
    "print(training_loss, training_acc, testing_loss, testing_acc)"
   ]
  },
  {
   "cell_type": "code",
   "execution_count": 15,
   "metadata": {},
   "outputs": [
    {
     "data": {
      "image/png": "[encoded data removed]",
      "text/plain": [
       "<Figure size 1200x600 with 1 Axes>"
      ]
     },
     "metadata": {},
     "output_type": "display_data"
    },
    {
     "data": {
      "image/png": "[encoded data removed]",
      "text/plain": [
       "<Figure size 1200x600 with 1 Axes>"
      ]
     },
     "metadata": {},
     "output_type": "display_data"
    }
   ],
   "source": [
    "process_data = {\n",
    "        'Epoch': list(range(1, NUM_EPOCHS + 1)),\n",
    "        'Train Loss': training_loss,\n",
    "        'Train Accuracy': training_acc,\n",
    "        'Test Loss': testing_loss,\n",
    "        'Test Accuracy': testing_acc,\n",
    "}\n",
    "plt.figure(figsize=(12, 6))\n",
    "plt.plot(process_data['Epoch'], process_data['Train Loss'], label='Train Loss', marker='o')\n",
    "plt.plot(process_data['Epoch'], process_data['Test Loss'], label='Test Loss', marker='o')\n",
    "plt.xlabel('Epoch')\n",
    "plt.ylabel('Loss')\n",
    "plt.legend()\n",
    "plt.title('Training and Testing Loss')\n",
    "plt.grid(True)\n",
    "plt.savefig('loss_plot.png')\n",
    "plt.show()\n",
    "\n",
    "plt.figure(figsize=(12, 6))\n",
    "plt.plot(process_data['Epoch'], process_data['Train Accuracy'], label='Train Accuracy', marker='o')\n",
    "plt.plot(process_data['Epoch'], process_data['Test Accuracy'], label='Test Accuracy', marker='o')\n",
    "plt.xlabel('Epoch')\n",
    "plt.ylabel('Accuracy')\n",
    "plt.legend()\n",
    "plt.title('Training and Testing Accuracy')\n",
    "plt.grid(True)\n",
    "plt.savefig('accuracy_plot.png')\n",
    "plt.show()\n"
   ]
  },
  {
   "cell_type": "markdown",
   "metadata": {},
   "source": [
    "### Task 2: Instance inference\n",
    "---\n",
    "The task is to visualizes an image along with model prediction and class probabilities.\n",
    "\n",
    "**To do**: \n",
    "1. Calculate the prediction and the probabilities for each class.\n",
    "         "
   ]
  },
  {
   "cell_type": "code",
   "execution_count": 16,
   "metadata": {},
   "outputs": [],
   "source": [
    "def train_batch(model, image, target):\n",
    "    # Perform one training batch iteration.\n",
    "    output = model(image)\n",
    "    loss_fn = nn.CrossEntropyLoss()\n",
    "    loss = loss_fn(output, target)\n",
    "    return output, loss\n",
    "\n",
    "\n",
    "def test_batch(model, image, target):\n",
    "    # Perform one testing batch iteration.\n",
    "    output = model(image)\n",
    "    loss_fn = nn.CrossEntropyLoss()\n",
    "    loss = loss_fn(output, target)\n",
    "    return output, loss\n",
    "\n",
    "\n",
    "def train_and_evaluate(learning_rate, momentum, gamma, step, EVAL_INTERVAL):\n",
    "    # Define your model, optimizer, and other necessary components\n",
    "    device = torch.device(\"cuda:0\" if torch.cuda.is_available() else \"cpu\")\n",
    "    NUM_CLASS = 10\n",
    "    BATCH_SIZE = 64\n",
    "    NUM_EPOCHS = 30\n",
    "    SAVE_DIR = './log'\n",
    "    transform_cifar10_train = transforms.Compose([\n",
    "        transforms.RandomCrop(32, padding=4),\n",
    "        transforms.RandomHorizontalFlip(),\n",
    "        transforms.ToTensor(),\n",
    "        transforms.Normalize((0.4914, 0.4822, 0.4465), (0.2023, 0.1994, 0.2010)),\n",
    "    ])\n",
    "\n",
    "    transform_cifar10_test = transforms.Compose([\n",
    "        transforms.ToTensor(),\n",
    "        transforms.Normalize((0.4914, 0.4822, 0.4465), (0.2023, 0.1994, 0.2010)),\n",
    "    ])\n",
    "\n",
    "    train_set = torchvision.datasets.CIFAR10(root='../data', train=True,\n",
    "                                             download=True, transform=transform_cifar10_train)\n",
    "\n",
    "    train_dataloader = torch.utils.data.DataLoader(train_set, batch_size=BATCH_SIZE,\n",
    "                                                   shuffle=True, num_workers=2)\n",
    "\n",
    "    test_set = torchvision.datasets.CIFAR10(root='../data', train=False,\n",
    "                                            download=True, transform=transform_cifar10_test)\n",
    "\n",
    "    test_dataloader = torch.utils.data.DataLoader(test_set, batch_size=BATCH_SIZE,\n",
    "                                                  shuffle=False, num_workers=2)\n",
    "    class_names = ['airplane', 'automobile', 'bird', 'cat', 'deer', 'dog', 'frog', 'horse', 'ship', 'truck']\n",
    "\n",
    "    model = models.resnet18(weights='imagenet')\n",
    "    num_features = model.fc.in_features\n",
    "    model.fc = nn.Linear(num_features, NUM_CLASS)\n",
    "    model.to(device)\n",
    "\n",
    "    optimizer = optim.SGD(model.parameters(), lr=learning_rate, momentum=momentum)\n",
    "    scheduler = torch.optim.lr_scheduler.StepLR(optimizer, step_size=step, gamma=gamma)\n",
    "\n",
    "    for epoch in range(NUM_EPOCHS):\n",
    "        model.train()\n",
    "        torch.cuda.empty_cache()\n",
    "        running_cls_loss = 0.0\n",
    "        running_cls_corrects = 0\n",
    "\n",
    "        for batch_idx, (image, target) in enumerate(train_dataloader):\n",
    "            image = image.to(device)\n",
    "            target = target.to(device)\n",
    "\n",
    "            outputs, loss = train_batch(model, image, target)\n",
    "            _, preds = torch.max(outputs, 1)\n",
    "\n",
    "            loss_data = loss.data.item()\n",
    "            if np.isnan(loss_data):\n",
    "                raise ValueError('loss is nan while training')\n",
    "            running_cls_loss += loss.item()\n",
    "            running_cls_corrects += torch.sum(preds == target.data)\n",
    "\n",
    "            loss.backward()\n",
    "            optimizer.step()\n",
    "            optimizer.zero_grad()\n",
    "\n",
    "        epoch_loss = running_cls_loss / len(train_set)\n",
    "        epoch_acc = running_cls_corrects.double() / len(train_set)\n",
    "        print(f'Epoch: {epoch + 1}/{NUM_EPOCHS} Train Loss: {epoch_loss:.4f} Acc: {epoch_acc:.4f}')\n",
    "\n",
    "        scheduler.step()\n",
    "\n",
    "        if (epoch + 1) % EVAL_INTERVAL == 0 or (epoch + 1) == NUM_EPOCHS:\n",
    "            print('Begin test...')\n",
    "            model.eval()\n",
    "            val_loss = 0.0\n",
    "            val_corrects = 0\n",
    "\n",
    "            for batch_idx, (image, target) in enumerate(test_dataloader):\n",
    "                image = image.to(device)\n",
    "                target = target.to(device)\n",
    "\n",
    "                outputs, loss = test_batch(model, image, target)\n",
    "                _, preds = torch.max(outputs, 1)\n",
    "\n",
    "                val_loss += loss.item()\n",
    "                val_corrects += torch.sum(preds == target.data)\n",
    "\n",
    "            val_loss = val_loss / len(test_set)\n",
    "            val_acc = val_corrects.double() / len(test_set)\n",
    "            print(f'Test Loss: {val_loss:.4f} Acc: {val_acc:.4f}')\n",
    "\n",
    "            if (epoch + 1) == NUM_EPOCHS:\n",
    "\n",
    "                state = {\n",
    "                    'state_dict': model.state_dict(),\n",
    "                    'acc': epoch_acc,\n",
    "                    'epoch': (epoch + 1),\n",
    "                }\n",
    "\n",
    "                if not os.path.exists(SAVE_DIR):\n",
    "                    os.makedirs(SAVE_DIR)\n",
    "\n",
    "                torch.save(state, osp.join(SAVE_DIR, 'checkpoint_%s.pth' % (str(epoch + 1))))"
   ]
  },
  {
   "cell_type": "code",
   "execution_count": 17,
   "metadata": {},
   "outputs": [],
   "source": [
    "inputs, classes = next(iter(test_dataloader))\n",
    "inputs = inputs.to(device)\n",
    "input = inputs[0]\n",
    "input = input.to(device)"
   ]
  },
  {
   "cell_type": "code",
   "execution_count": 18,
   "metadata": {},
   "outputs": [],
   "source": [
    "##################### Write your answer here ##################\n",
    "# input: image, model\n",
    "# outputs: predict_label, probabilities\n",
    "# predict_label is the index (or label) of the class with the highest probability from the probabilities.\n",
    "###############################################################\n",
    "with torch.no_grad():\n",
    "        model.eval()\n",
    "        output = model(input.unsqueeze(0))\n",
    "        probabilities = torch.softmax(output, dim=1)\n",
    "        predict_label = torch.argmax(probabilities, dim=1).item()\n",
    "#probabilities = torch.softmax(output, dim=1)\n",
    "#predict_label = torch.argmax(probabilities, dim=1)"
   ]
  },
  {
   "cell_type": "code",
   "execution_count": 19,
   "metadata": {},
   "outputs": [
    {
     "data": {
      "image/png": "[encoded data removed]",
      "text/plain": [
       "<Figure size 640x480 with 1 Axes>"
      ]
     },
     "metadata": {},
     "output_type": "display_data"
    },
    {
     "name": "stdout",
     "output_type": "stream",
     "text": [
      "Print probabilities for each class:\n",
      "airplane: 0.0061\n",
      "automobile: 0.0112\n",
      "bird: 0.0659\n",
      "cat: 0.3875\n",
      "deer: 0.0815\n",
      "dog: 0.2495\n",
      "frog: 0.0897\n",
      "horse: 0.0918\n",
      "ship: 0.0052\n",
      "truck: 0.0115\n"
     ]
    },
    {
     "name": "stderr",
     "output_type": "stream",
     "text": [
      "/usr/local/lib/python3.10/dist-packages/torchvision/models/_utils.py:208: UserWarning: The parameter 'pretrained' is deprecated since 0.13 and may be removed in the future, please use 'weights' instead.\n",
      "  warnings.warn(\n",
      "/usr/local/lib/python3.10/dist-packages/torchvision/models/_utils.py:223: UserWarning: Arguments other than a weight enum or `None` for 'weights' are deprecated since 0.13 and may be removed in the future. The current behavior is equivalent to passing `weights=None`.\n",
      "  warnings.warn(msg)\n"
     ]
    }
   ],
   "source": [
    "predicted_class = class_names[predict_label]\n",
    "predicted_probability = probabilities[0, predict_label].item()\n",
    "image = input.cpu().numpy().transpose((1, 2, 0))\n",
    "image = (image * np.array([0.2023, 0.1994, 0.2010])) + np.array([0.4914, 0.4822, 0.4465])\n",
    "image = np.clip(image, 0, 1)\n",
    "image = Image.fromarray((image * 255).astype(np.uint8))\n",
    "plt.imshow(image)\n",
    "plt.text(17, 30, f'Predicted Class: {predicted_class}\\nProbability: {predicted_probability:.2f}', \n",
    "            color='white', backgroundcolor='black', fontsize=8)\n",
    "plt.show()\n",
    "\n",
    "# Print probabilities for each class\n",
    "print('Print probabilities for each class:')\n",
    "for i in range(len(class_names)):\n",
    "    print(f'{class_names[i]}: {probabilities[0,i].item():.4f}')\n",
    "def train_and_evaluate(learning_rate, momentum, gamma, step, EVAL_INTERVAL):\n",
    "    # 在这里定义 train_and_evaluate 函数，包含你的训练和评估逻辑\n",
    "    # 返回训练好的模型\n",
    "    model = models.resnet18(pretrained=False)\n",
    "    num_features = model.fc.in_features\n",
    "    model.fc = nn.Linear(num_features, NUM_CLASS)\n",
    "    \n",
    "    return model\n",
    "if __name__ == '__main__':\n",
    "\n",
    "    learning_rate = 0.1\n",
    "    momentum = 0.5\n",
    "    step = 5\n",
    "    gamma = 0.9\n",
    "    EVAL_INTERVAL = 30\n",
    "    results = []\n",
    "\n",
    "    SEED = 1\n",
    "    random.seed(SEED)\n",
    "    np.random.seed(SEED)\n",
    "    torch.manual_seed(SEED)\n",
    "    torch.cuda.manual_seed(SEED)\n",
    "\n",
    "    result = train_and_evaluate(learning_rate, momentum, gamma, step, EVAL_INTERVAL)"
   ]
  },
  {
   "cell_type": "code",
   "execution_count": null,
   "metadata": {},
   "outputs": [],
   "source": []
  },
  {
   "cell_type": "code",
   "execution_count": null,
   "metadata": {},
   "outputs": [],
   "source": []
  },
  {
   "cell_type": "code",
   "execution_count": null,
   "metadata": {},
   "outputs": [],
   "source": []
  },
  {
   "cell_type": "code",
   "execution_count": null,
   "metadata": {},
   "outputs": [],
   "source": []
  },
  {
   "cell_type": "code",
   "execution_count": null,
   "metadata": {},
   "outputs": [],
   "source": []
  },
  {
   "cell_type": "code",
   "execution_count": null,
   "metadata": {},
   "outputs": [],
   "source": []
  },
  {
   "cell_type": "code",
   "execution_count": null,
   "metadata": {},
   "outputs": [],
   "source": []
  },
  {
   "cell_type": "code",
   "execution_count": null,
   "metadata": {},
   "outputs": [],
   "source": []
  },
  {
   "cell_type": "code",
   "execution_count": null,
   "metadata": {},
   "outputs": [],
   "source": []
  },
  {
   "cell_type": "code",
   "execution_count": null,
   "metadata": {},
   "outputs": [],
   "source": []
  },
  {
   "cell_type": "code",
   "execution_count": null,
   "metadata": {},
   "outputs": [],
   "source": []
  },
  {
   "cell_type": "code",
   "execution_count": null,
   "metadata": {},
   "outputs": [],
   "source": []
  },
  {
   "cell_type": "code",
   "execution_count": null,
   "metadata": {},
   "outputs": [],
   "source": []
  },
  {
   "cell_type": "code",
   "execution_count": null,
   "metadata": {},
   "outputs": [],
   "source": []
  },
  {
   "cell_type": "code",
   "execution_count": null,
   "metadata": {},
   "outputs": [],
   "source": []
  },
  {
   "cell_type": "code",
   "execution_count": null,
   "metadata": {},
   "outputs": [],
   "source": []
  }
 ],
 "metadata": {
  "kernelspec": {
   "display_name": "Python 3 (ipykernel)",
   "language": "python",
   "name": "python3"
  },
  "language_info": {
   "codemirror_mode": {
    "name": "ipython",
    "version": 3
   },
   "file_extension": ".py",
   "mimetype": "text/x-python",
   "name": "python",
   "nbconvert_exporter": "python",
   "pygments_lexer": "ipython3",
   "version": "3.10.12"
  }
 },
 "nbformat": 4,
 "nbformat_minor": 4
}
