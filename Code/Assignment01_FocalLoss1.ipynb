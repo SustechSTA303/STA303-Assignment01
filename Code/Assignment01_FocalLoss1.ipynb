{
 "cells": [
  {
   "cell_type": "markdown",
   "metadata": {},
   "source": [
    "# Assignment 01: Multi-class Classification \n",
    "In this Assignment, you will train a deep model on the CIFAR10 from the scratch using PyTorch."
   ]
  },
  {
   "cell_type": "markdown",
   "metadata": {},
   "source": [
    "### Basic Imports"
   ]
  },
  {
   "cell_type": "code",
   "execution_count": 1,
   "metadata": {},
   "outputs": [],
   "source": [
    "import os\n",
    "import time\n",
    "import os.path as osp\n",
    "\n",
    "import numpy as np\n",
    "import pandas as pd\n",
    "\n",
    "import torch\n",
    "import torch.nn as nn\n",
    "import torch.nn.functional as F\n",
    "import torch.optim as optim\n",
    "from torch.utils.data import DataLoader\n",
    "\n",
    "from torchvision import datasets\n",
    "from torchvision import transforms\n",
    "import torchvision\n",
    "\n",
    "import matplotlib.pyplot as plt\n",
    "from PIL import Image"
   ]
  },
  {
   "cell_type": "markdown",
   "metadata": {},
   "source": [
    "### Hyperparameters"
   ]
  },
  {
   "cell_type": "code",
   "execution_count": 2,
   "metadata": {},
   "outputs": [],
   "source": [
    "# random seed\n",
    "SEED = 1 \n",
    "NUM_CLASS = 10\n",
    "\n",
    "# Training\n",
    "BATCH_SIZE = 128\n",
    "NUM_EPOCHS = 30\n",
    "EVAL_INTERVAL=1\n",
    "SAVE_DIR = './log'\n",
    "\n",
    "# Optimizer\n",
    "LEARNING_RATE = 1e-1\n",
    "MOMENTUM = 0.9\n",
    "STEP=5\n",
    "GAMMA=0.5\n"
   ]
  },
  {
   "cell_type": "markdown",
   "metadata": {},
   "source": [
    "### Device"
   ]
  },
  {
   "cell_type": "code",
   "execution_count": 3,
   "metadata": {},
   "outputs": [],
   "source": [
    "device = torch.device(\"cuda:0\" if torch.cuda.is_available() else \"cpu\")"
   ]
  },
  {
   "cell_type": "markdown",
   "metadata": {},
   "source": [
    "\n",
    "### Dataset\n"
   ]
  },
  {
   "cell_type": "code",
   "execution_count": 4,
   "metadata": {},
   "outputs": [
    {
     "name": "stdout",
     "output_type": "stream",
     "text": [
      "Files already downloaded and verified\n",
      "Files already downloaded and verified\n"
     ]
    }
   ],
   "source": [
    "# cifar10 transform\n",
    "transform_cifar10_train = transforms.Compose([\n",
    "    transforms.RandomCrop(32, padding=4),\n",
    "    transforms.RandomHorizontalFlip(),\n",
    "    transforms.ToTensor(),\n",
    "    transforms.Normalize((0.4914, 0.4822, 0.4465), (0.2023, 0.1994, 0.2010)),\n",
    "])\n",
    "\n",
    "transform_cifar10_test = transforms.Compose([\n",
    "    transforms.ToTensor(),\n",
    "    transforms.Normalize((0.4914, 0.4822, 0.4465), (0.2023, 0.1994, 0.2010)),\n",
    "])\n",
    "\n",
    "train_set = torchvision.datasets.CIFAR10(root='../data', train=True,\n",
    "                                        download=True, transform=transform_cifar10_train)\n",
    "train_dataloader = torch.utils.data.DataLoader(train_set, batch_size=BATCH_SIZE,\n",
    "                                          shuffle=True, num_workers=2)\n",
    "\n",
    "test_set = torchvision.datasets.CIFAR10(root='../data', train=False,\n",
    "                                       download=True, transform=transform_cifar10_test)\n",
    "test_dataloader = torch.utils.data.DataLoader(test_set, batch_size=BATCH_SIZE,\n",
    "                                         shuffle=False, num_workers=2)\n",
    "\n",
    "class_names = ['airplane', 'automobile', 'bird', 'cat', 'deer', 'dog', 'frog', 'horse', 'ship', 'truck']\n"
   ]
  },
  {
   "cell_type": "markdown",
   "metadata": {},
   "source": [
    "### Model"
   ]
  },
  {
   "cell_type": "code",
   "execution_count": 5,
   "metadata": {},
   "outputs": [],
   "source": [
    "class ConvNet(nn.Module):\n",
    "    def __init__(self):\n",
    "        super(ConvNet, self).__init__()\n",
    "        self.conv1 = nn.Conv2d(3, 4, 3)  \n",
    "        self.pool = nn.MaxPool2d(2, 2)\n",
    "        self.conv2 = nn.Conv2d(4, 8, 3)  \n",
    "        self.fc1 = nn.Linear(8 * 6 * 6, 32)\n",
    "        self.fc2 = nn.Linear(32, 10)\n",
    "\n",
    "    def forward(self, x):\n",
    "        x = self.pool(torch.relu(self.conv1(x)))\n",
    "        x = self.pool(torch.relu(self.conv2(x)))\n",
    "        x = x.view(-1, 8 * 6 * 6)\n",
    "        x = torch.relu(self.fc1(x))\n",
    "        x = self.fc2(x)\n",
    "        return x"
   ]
  },
  {
   "cell_type": "code",
   "execution_count": 6,
   "metadata": {},
   "outputs": [
    {
     "data": {
      "text/plain": [
       "ConvNet(\n",
       "  (conv1): Conv2d(3, 4, kernel_size=(3, 3), stride=(1, 1))\n",
       "  (pool): MaxPool2d(kernel_size=2, stride=2, padding=0, dilation=1, ceil_mode=False)\n",
       "  (conv2): Conv2d(4, 8, kernel_size=(3, 3), stride=(1, 1))\n",
       "  (fc1): Linear(in_features=288, out_features=32, bias=True)\n",
       "  (fc2): Linear(in_features=32, out_features=10, bias=True)\n",
       ")"
      ]
     },
     "execution_count": 6,
     "metadata": {},
     "output_type": "execute_result"
    }
   ],
   "source": [
    "model = ConvNet()\n",
    "model.to(device)"
   ]
  },
  {
   "cell_type": "markdown",
   "metadata": {},
   "source": [
    "### Optimizer"
   ]
  },
  {
   "cell_type": "code",
   "execution_count": 7,
   "metadata": {},
   "outputs": [],
   "source": [
    "optimizer = optim.SGD(model.parameters(), lr=LEARNING_RATE, momentum=MOMENTUM)\n",
    "\n",
    "scheduler = torch.optim.lr_scheduler.StepLR(optimizer, step_size=STEP, gamma=GAMMA)"
   ]
  },
  {
   "cell_type": "markdown",
   "metadata": {},
   "source": [
    "### Task 1: per batch training/testing\n",
    "---\n",
    "\n",
    "Please denfine two function named ``train_batch`` and ``test_batch``. These functions are essential for training and evaluating machine learning models using batched data from dataloaders.\n",
    "\n",
    "**To do**: \n",
    "1. Define the loss function i.e [nn.CrossEntropyLoss()](https://pytorch.org/docs/stable/generated/torch.nn.CrossEntropyLoss.html).\n",
    "2. Take the image as the input and generate the output using the pre-defined SimpleNet.\n",
    "3. Calculate the loss between the output and the corresponding label using the loss function."
   ]
  },
  {
   "cell_type": "code",
   "execution_count": 8,
   "metadata": {},
   "outputs": [],
   "source": [
    "class FocalLoss(nn.Module):\n",
    "\n",
    "    def __init__(self, weight=None, reduction='mean', gamma=0, eps=1e-7):\n",
    "        super(FocalLoss, self).__init__()\n",
    "        self.gamma = gamma\n",
    "        self.eps = eps\n",
    "        self.ce = torch.nn.CrossEntropyLoss(weight=weight, reduction=reduction)\n",
    "\n",
    "    def forward(self, input, target):\n",
    "        logp = self.ce(input, target)\n",
    "        p = torch.exp(-logp)\n",
    "        loss = (1 - p) ** self.gamma * logp\n",
    "        return loss.mean()"
   ]
  },
  {
   "cell_type": "code",
   "execution_count": 17,
   "metadata": {},
   "outputs": [],
   "source": [
    "##################### Write your answer here ##################\n",
    "# Define the loss function\n",
    "criterion = FocalLoss(gamma = 1.0)\n",
    "###############################################################"
   ]
  },
  {
   "cell_type": "code",
   "execution_count": 18,
   "metadata": {},
   "outputs": [],
   "source": [
    "def train_batch(model, image, target):\n",
    "    \"\"\"\n",
    "    Perform one training batch iteration.\n",
    "\n",
    "    Args:\n",
    "        model (torch.nn.Module): The machine learning model to train.\n",
    "        image (torch.Tensor): Batch of input data (images).\n",
    "        target (torch.Tensor): Batch of target labels.\n",
    "\n",
    "    Returns:\n",
    "        torch.Tensor: Model output (predictions) for the batch.\n",
    "        torch.Tensor: Loss value calculated by the defined loss function loss_fn().\n",
    "    \"\"\"\n",
    "    \n",
    "    ##################### Write your answer here ##################\n",
    "    output = model(image)\n",
    "    loss = criterion(output, target)\n",
    "    ###############################################################\n",
    "\n",
    "    return output, loss"
   ]
  },
  {
   "cell_type": "code",
   "execution_count": 19,
   "metadata": {},
   "outputs": [],
   "source": [
    "\n",
    "def test_batch(model, image, target):\n",
    "    \"\"\"\n",
    "    Perform one testing batch iteration.\n",
    "\n",
    "    Args:\n",
    "        model (torch.nn.Module): The machine learning model to evaluate.\n",
    "        image (torch.Tensor): Batch of input data (images).\n",
    "        target (torch.Tensor): Batch of target labels.\n",
    "\n",
    "    Returns:\n",
    "        torch.Tensor: Model output (predictions) for the batch.\n",
    "        torch.Tensor: Loss value calculated for the batch.\n",
    "    \"\"\"\n",
    "\n",
    "    ##################### Write your answer here ##################\n",
    "    output = model(image)\n",
    "    loss = criterion(output, target)\n",
    "    ###############################################################\n",
    "\n",
    "    return output, loss"
   ]
  },
  {
   "cell_type": "markdown",
   "metadata": {},
   "source": [
    "### Model Training"
   ]
  },
  {
   "cell_type": "code",
   "execution_count": 12,
   "metadata": {},
   "outputs": [
    {
     "name": "stdout",
     "output_type": "stream",
     "text": [
      "Epoch: 1/30 Train Loss: 0.0162 Acc: 0.1194\n",
      "Begin test......\n",
      "Test Loss: 0.0163 Acc: 0.1077\n",
      "Epoch: 2/30 Train Loss: 0.0158 Acc: 0.1337\n",
      "Begin test......\n",
      "Test Loss: 0.0155 Acc: 0.1608\n",
      "Epoch: 3/30 Train Loss: 0.0147 Acc: 0.1881\n",
      "Begin test......\n",
      "Test Loss: 0.0132 Acc: 0.2759\n",
      "Epoch: 4/30 Train Loss: 0.0132 Acc: 0.2555\n",
      "Begin test......\n",
      "Test Loss: 0.0124 Acc: 0.2887\n",
      "Epoch: 5/30 Train Loss: 0.0128 Acc: 0.2744\n",
      "Begin test......\n",
      "Test Loss: 0.0120 Acc: 0.3127\n",
      "Epoch: 6/30 Train Loss: 0.0117 Acc: 0.3253\n",
      "Begin test......\n",
      "Test Loss: 0.0107 Acc: 0.3747\n",
      "Epoch: 7/30 Train Loss: 0.0113 Acc: 0.3414\n",
      "Begin test......\n",
      "Test Loss: 0.0116 Acc: 0.3637\n",
      "Epoch: 8/30 Train Loss: 0.0113 Acc: 0.3521\n",
      "Begin test......\n",
      "Test Loss: 0.0111 Acc: 0.3502\n",
      "Epoch: 9/30 Train Loss: 0.0111 Acc: 0.3562\n",
      "Begin test......\n",
      "Test Loss: 0.0101 Acc: 0.4203\n",
      "Epoch: 10/30 Train Loss: 0.0112 Acc: 0.3563\n",
      "Begin test......\n",
      "Test Loss: 0.0102 Acc: 0.4045\n",
      "Epoch: 11/30 Train Loss: 0.0105 Acc: 0.3869\n",
      "Begin test......\n",
      "Test Loss: 0.0100 Acc: 0.4141\n",
      "Epoch: 12/30 Train Loss: 0.0102 Acc: 0.3908\n",
      "Begin test......\n",
      "Test Loss: 0.0093 Acc: 0.4415\n",
      "Epoch: 13/30 Train Loss: 0.0102 Acc: 0.3991\n",
      "Begin test......\n",
      "Test Loss: 0.0093 Acc: 0.4397\n",
      "Epoch: 14/30 Train Loss: 0.0101 Acc: 0.4003\n",
      "Begin test......\n",
      "Test Loss: 0.0091 Acc: 0.4522\n",
      "Epoch: 15/30 Train Loss: 0.0100 Acc: 0.4078\n",
      "Begin test......\n",
      "Test Loss: 0.0094 Acc: 0.4418\n",
      "Epoch: 16/30 Train Loss: 0.0095 Acc: 0.4289\n",
      "Begin test......\n",
      "Test Loss: 0.0089 Acc: 0.4663\n",
      "Epoch: 17/30 Train Loss: 0.0094 Acc: 0.4281\n",
      "Begin test......\n",
      "Test Loss: 0.0087 Acc: 0.4683\n",
      "Epoch: 18/30 Train Loss: 0.0094 Acc: 0.4340\n",
      "Begin test......\n",
      "Test Loss: 0.0086 Acc: 0.4715\n",
      "Epoch: 19/30 Train Loss: 0.0093 Acc: 0.4384\n",
      "Begin test......\n",
      "Test Loss: 0.0088 Acc: 0.4712\n",
      "Epoch: 20/30 Train Loss: 0.0093 Acc: 0.4405\n",
      "Begin test......\n",
      "Test Loss: 0.0088 Acc: 0.4697\n",
      "Epoch: 21/30 Train Loss: 0.0090 Acc: 0.4545\n",
      "Begin test......\n",
      "Test Loss: 0.0082 Acc: 0.4917\n",
      "Epoch: 22/30 Train Loss: 0.0089 Acc: 0.4595\n",
      "Begin test......\n",
      "Test Loss: 0.0083 Acc: 0.4832\n",
      "Epoch: 23/30 Train Loss: 0.0089 Acc: 0.4609\n",
      "Begin test......\n",
      "Test Loss: 0.0082 Acc: 0.4937\n",
      "Epoch: 24/30 Train Loss: 0.0089 Acc: 0.4594\n",
      "Begin test......\n",
      "Test Loss: 0.0084 Acc: 0.4911\n",
      "Epoch: 25/30 Train Loss: 0.0089 Acc: 0.4622\n",
      "Begin test......\n",
      "Test Loss: 0.0079 Acc: 0.5126\n",
      "Epoch: 26/30 Train Loss: 0.0087 Acc: 0.4703\n",
      "Begin test......\n",
      "Test Loss: 0.0079 Acc: 0.5097\n",
      "Epoch: 27/30 Train Loss: 0.0087 Acc: 0.4714\n",
      "Begin test......\n",
      "Test Loss: 0.0078 Acc: 0.5138\n",
      "Epoch: 28/30 Train Loss: 0.0086 Acc: 0.4746\n",
      "Begin test......\n",
      "Test Loss: 0.0078 Acc: 0.5150\n",
      "Epoch: 29/30 Train Loss: 0.0086 Acc: 0.4742\n",
      "Begin test......\n",
      "Test Loss: 0.0079 Acc: 0.5110\n",
      "Epoch: 30/30 Train Loss: 0.0086 Acc: 0.4742\n",
      "Begin test......\n",
      "Test Loss: 0.0078 Acc: 0.5127\n"
     ]
    }
   ],
   "source": [
    "training_loss = []\n",
    "training_acc = []\n",
    "testing_loss = []\n",
    "testing_acc = []\n",
    "\n",
    "for epoch in range(NUM_EPOCHS):\n",
    "    model.train()\n",
    "    torch.cuda.empty_cache()\n",
    "\n",
    "    ##########################\n",
    "    ### Training\n",
    "    ##########################\n",
    "\n",
    "    running_cls_loss = 0.0\n",
    "    running_cls_corrects = 0\n",
    "\n",
    "    for batch_idx, (image, target) in enumerate(train_dataloader):\n",
    "\n",
    "        image = image.to(device)\n",
    "        target = target.to(device)\n",
    "\n",
    "        # train model\n",
    "        outputs, loss = train_batch(model, image, target)\n",
    "        _, preds = torch.max(outputs, 1)\n",
    "\n",
    "        \n",
    "        loss_data = loss.data.item()\n",
    "        if np.isnan(loss_data):\n",
    "            raise ValueError('loss is nan while training')\n",
    "        running_cls_loss += loss.item()\n",
    "        running_cls_corrects += torch.sum(preds == target.data)\n",
    "\n",
    "        loss.backward()\n",
    "        optimizer.step()\n",
    "        optimizer.zero_grad()\n",
    "\n",
    "    epoch_loss = running_cls_loss / len(train_set)\n",
    "    epoch_acc = running_cls_corrects.double() / len(train_set)\n",
    "\n",
    "    print(f'Epoch: {epoch+1}/{NUM_EPOCHS} Train Loss: {epoch_loss:.4f} Acc: {epoch_acc:.4f}')\n",
    "\n",
    "    training_loss.append(epoch_loss)\n",
    "    training_acc.append(epoch_acc.cpu().detach().numpy())\n",
    "\n",
    "    # change learning rate\n",
    "    scheduler.step()\n",
    "\n",
    "\n",
    "    ##########################\n",
    "    ### Testing\n",
    "    ##########################\n",
    "    # # eval model during training or in the last epoch\n",
    "    if (epoch + 1) % EVAL_INTERVAL == 0 or (epoch +1) == NUM_EPOCHS:\n",
    "        print('Begin test......')\n",
    "        model.eval()\n",
    "    \n",
    "        val_loss = 0.0\n",
    "        val_corrects = 0\n",
    "\n",
    "        for batch_idx, (image, target) in enumerate(test_dataloader):\n",
    "\n",
    "            image = image.to(device)\n",
    "            target = target.to(device)\n",
    "\n",
    "            # test model\n",
    "            outputs, loss = test_batch(model, image, target)\n",
    "            _, preds = torch.max(outputs, 1)\n",
    "            \n",
    "            val_loss += loss.item()\n",
    "            val_corrects += torch.sum(preds == target.data)\n",
    "\n",
    "        val_loss = val_loss / len(test_set)\n",
    "        val_acc = val_corrects.double() / len(test_set)\n",
    "        print(f'Test Loss: {val_loss:.4f} Acc: {val_acc:.4f}')\n",
    "        testing_loss.append(val_loss)\n",
    "        testing_acc.append(val_acc.cpu().detach().numpy())\n",
    "\n",
    "        # save the model in last epoch\n",
    "        if (epoch +1) == NUM_EPOCHS:\n",
    "            \n",
    "            state = {\n",
    "            'state_dict': model.state_dict(),\n",
    "            'acc': epoch_acc,\n",
    "            'epoch': (epoch+1),\n",
    "            }\n",
    "\n",
    "            # check the dir\n",
    "            if not os.path.exists(SAVE_DIR):\n",
    "                os.makedirs(SAVE_DIR)\n",
    "\n",
    "            # save the state\n",
    "            torch.save(state, osp.join(SAVE_DIR, 'checkpoint_%s.pth' % (str(epoch+1))))"
   ]
  },
  {
   "cell_type": "code",
   "execution_count": 20,
   "metadata": {},
   "outputs": [
    {
     "name": "stdout",
     "output_type": "stream",
     "text": [
      "[array(0.11942), array(0.13368), array(0.18812), array(0.2555), array(0.27436), array(0.32534), array(0.34142), array(0.35214), array(0.35616), array(0.35634), array(0.38692), array(0.3908), array(0.39908), array(0.4003), array(0.40776), array(0.4289), array(0.42808), array(0.43398), array(0.43844), array(0.4405), array(0.45452), array(0.45954), array(0.46094), array(0.45944), array(0.46218), array(0.47034), array(0.4714), array(0.47464), array(0.47416), array(0.4742)]\n",
      "[array(0.1077), array(0.1608), array(0.2759), array(0.2887), array(0.3127), array(0.3747), array(0.3637), array(0.3502), array(0.4203), array(0.4045), array(0.4141), array(0.4415), array(0.4397), array(0.4522), array(0.4418), array(0.4663), array(0.4683), array(0.4715), array(0.4712), array(0.4697), array(0.4917), array(0.4832), array(0.4937), array(0.4911), array(0.5126), array(0.5097), array(0.5138), array(0.515), array(0.511), array(0.5127)]\n"
     ]
    },
    {
     "data": {
      "text/plain": [
       "<function matplotlib.pyplot.show(close=None, block=None)>"
      ]
     },
     "execution_count": 20,
     "metadata": {},
     "output_type": "execute_result"
    },
    {
     "data": {
      "image/png": "[encoded data removed]",
      "text/plain": [
       "<Figure size 640x480 with 1 Axes>"
      ]
     },
     "metadata": {},
     "output_type": "display_data"
    }
   ],
   "source": [
    "xp = np.arange(start = 1, stop = 31)\n",
    "plt.plot(xp, training_acc) \n",
    "plt.plot(xp, testing_acc)\n",
    "plt.legend(('training_acc', 'testing_acc'), loc='upper right')  \n",
    "print(training_acc)\n",
    "print(testing_acc)\n",
    "plt.show"
   ]
  },
  {
   "cell_type": "code",
   "execution_count": null,
   "metadata": {},
   "outputs": [],
   "source": []
  }
 ],
 "metadata": {
  "kernelspec": {
   "display_name": "Python 3 (ipykernel)",
   "language": "python",
   "name": "python3"
  },
  "language_info": {
   "codemirror_mode": {
    "name": "ipython",
    "version": 3
   },
   "file_extension": ".py",
   "mimetype": "text/x-python",
   "name": "python",
   "nbconvert_exporter": "python",
   "pygments_lexer": "ipython3",
   "version": "3.10.12"
  }
 },
 "nbformat": 4,
 "nbformat_minor": 4
}
