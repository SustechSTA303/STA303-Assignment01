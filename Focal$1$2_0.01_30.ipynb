{
 "cells": [
  {
   "cell_type": "markdown",
   "metadata": {},
   "source": [
    "# Assignment 01: Multi-class Classification \n",
    "In this Assignment, you will train a deep model on the CIFAR10 from the scratch using PyTorch."
   ]
  },
  {
   "cell_type": "markdown",
   "metadata": {},
   "source": [
    "### Basic Imports"
   ]
  },
  {
   "cell_type": "code",
   "execution_count": 12,
   "metadata": {},
   "outputs": [],
   "source": [
    "import os\n",
    "import time\n",
    "import os.path as osp\n",
    "\n",
    "import numpy as np\n",
    "import pandas as pd\n",
    "\n",
    "import torch\n",
    "import torch.nn as nn\n",
    "import torch.nn.functional as F\n",
    "import torch.optim as optim\n",
    "from torch.utils.data import DataLoader\n",
    "\n",
    "from torchvision import datasets\n",
    "from torchvision import transforms\n",
    "import torchvision\n",
    "\n",
    "import matplotlib.pyplot as plt\n",
    "from PIL import Image"
   ]
  },
  {
   "cell_type": "markdown",
   "metadata": {},
   "source": [
    "### Hyperparameters"
   ]
  },
  {
   "cell_type": "code",
   "execution_count": 13,
   "metadata": {},
   "outputs": [],
   "source": [
    "# random seed\n",
    "SEED = 1 \n",
    "NUM_CLASS = 10\n",
    "\n",
    "# Training\n",
    "BATCH_SIZE = 100\n",
    "NUM_EPOCHS = 30\n",
    "EVAL_INTERVAL=1\n",
    "SAVE_DIR = './log'\n",
    "\n",
    "# Optimizer\n",
    "LEARNING_RATE = 0.01\n",
    "MOMENTUM = 0.9\n",
    "STEP=5\n",
    "GAMMA=0.5\n"
   ]
  },
  {
   "cell_type": "markdown",
   "metadata": {},
   "source": [
    "### Device"
   ]
  },
  {
   "cell_type": "code",
   "execution_count": 14,
   "metadata": {},
   "outputs": [],
   "source": [
    "device = torch.device(\"cuda:0\" if torch.cuda.is_available() else \"cpu\")"
   ]
  },
  {
   "cell_type": "markdown",
   "metadata": {},
   "source": [
    "\n",
    "### Dataset\n"
   ]
  },
  {
   "cell_type": "code",
   "execution_count": 15,
   "metadata": {},
   "outputs": [
    {
     "name": "stdout",
     "output_type": "stream",
     "text": [
      "Files already downloaded and verified\n",
      "Files already downloaded and verified\n"
     ]
    }
   ],
   "source": [
    "# cifar10 transform\n",
    "transform_cifar10_train = transforms.Compose([\n",
    "    transforms.RandomCrop(32, padding=4),\n",
    "    transforms.RandomHorizontalFlip(),\n",
    "    transforms.ToTensor(),\n",
    "    transforms.Normalize((0.4914, 0.4822, 0.4465), (0.2023, 0.1994, 0.2010)),\n",
    "])\n",
    "\n",
    "transform_cifar10_test = transforms.Compose([\n",
    "    transforms.ToTensor(),\n",
    "    transforms.Normalize((0.4914, 0.4822, 0.4465), (0.2023, 0.1994, 0.2010)),\n",
    "])\n",
    "\n",
    "train_set = torchvision.datasets.CIFAR10(root='../data', train=True,\n",
    "                                        download=True, transform=transform_cifar10_train)\n",
    "train_dataloader = torch.utils.data.DataLoader(train_set, batch_size=BATCH_SIZE,\n",
    "                                          shuffle=True, num_workers=2)\n",
    "\n",
    "test_set = torchvision.datasets.CIFAR10(root='../data', train=False,\n",
    "                                       download=True, transform=transform_cifar10_test)\n",
    "test_dataloader = torch.utils.data.DataLoader(test_set, batch_size=BATCH_SIZE,\n",
    "                                         shuffle=False, num_workers=2)\n",
    "\n",
    "class_names = ['airplane', 'automobile', 'bird', 'cat', 'deer', 'dog', 'frog', 'horse', 'ship', 'truck']\n"
   ]
  },
  {
   "cell_type": "code",
   "execution_count": 16,
   "metadata": {},
   "outputs": [
    {
     "name": "stdout",
     "output_type": "stream",
     "text": [
      "CIFAR-10 训练集的大小: 50000\n",
      "CIFAR-10 测试集的大小: 10000\n"
     ]
    }
   ],
   "source": [
    "dataset_size = len(train_set)\n",
    "testdata_size = len(test_set)\n",
    "print(\"CIFAR-10 训练集的大小:\", dataset_size)\n",
    "print(\"CIFAR-10 测试集的大小:\", testdata_size)"
   ]
  },
  {
   "cell_type": "markdown",
   "metadata": {},
   "source": [
    "### Model"
   ]
  },
  {
   "cell_type": "code",
   "execution_count": 17,
   "metadata": {},
   "outputs": [],
   "source": [
    "class ConvNet(nn.Module):\n",
    "    def __init__(self):\n",
    "        super(ConvNet, self).__init__()\n",
    "        self.conv1 = nn.Conv2d(3, 4, 3)  \n",
    "        self.pool = nn.MaxPool2d(2, 2)\n",
    "        self.conv2 = nn.Conv2d(4, 8, 3)  \n",
    "        self.fc1 = nn.Linear(8 * 6 * 6, 32)\n",
    "        self.fc2 = nn.Linear(32, 10)\n",
    "\n",
    "    def forward(self, x):\n",
    "        x = self.pool(torch.relu(self.conv1(x)))\n",
    "        x = self.pool(torch.relu(self.conv2(x)))\n",
    "        x = x.view(-1, 8 * 6 * 6)\n",
    "        x = torch.relu(self.fc1(x))\n",
    "        x = self.fc2(x)\n",
    "        return x"
   ]
  },
  {
   "cell_type": "code",
   "execution_count": 18,
   "metadata": {},
   "outputs": [
    {
     "data": {
      "text/plain": [
       "ConvNet(\n",
       "  (conv1): Conv2d(3, 4, kernel_size=(3, 3), stride=(1, 1))\n",
       "  (pool): MaxPool2d(kernel_size=2, stride=2, padding=0, dilation=1, ceil_mode=False)\n",
       "  (conv2): Conv2d(4, 8, kernel_size=(3, 3), stride=(1, 1))\n",
       "  (fc1): Linear(in_features=288, out_features=32, bias=True)\n",
       "  (fc2): Linear(in_features=32, out_features=10, bias=True)\n",
       ")"
      ]
     },
     "execution_count": 18,
     "metadata": {},
     "output_type": "execute_result"
    }
   ],
   "source": [
    "model = ConvNet()\n",
    "model.to(device)"
   ]
  },
  {
   "cell_type": "markdown",
   "metadata": {},
   "source": [
    "### Optimizer"
   ]
  },
  {
   "cell_type": "code",
   "execution_count": 19,
   "metadata": {},
   "outputs": [],
   "source": [
    "optimizer = optim.SGD(model.parameters(), lr=LEARNING_RATE, momentum=MOMENTUM)\n",
    "\n",
    "scheduler = torch.optim.lr_scheduler.StepLR(optimizer, step_size=STEP, gamma=GAMMA)"
   ]
  },
  {
   "cell_type": "code",
   "execution_count": 20,
   "metadata": {},
   "outputs": [],
   "source": [
    "class FocalLoss(nn.Module):\n",
    "    def __init__(self, alpha=1, gamma=2, reduction='mean'):\n",
    "        super(FocalLoss, self).__init__()\n",
    "        self.alpha = alpha\n",
    "        self.gamma = gamma\n",
    "        self.reduction = reduction\n",
    "\n",
    "    def forward(self, logits, target):\n",
    "        ce_loss = F.cross_entropy(logits, target, reduction='none')\n",
    "        p = torch.exp(-ce_loss)\n",
    "        focal_loss = self.alpha * (1 - p) ** self.gamma * ce_loss\n",
    "\n",
    "        if self.reduction == 'mean':\n",
    "            return focal_loss.mean()\n",
    "        elif self.reduction == 'sum':\n",
    "            return focal_loss.sum()\n",
    "        else:\n",
    "            return focal_loss\n",
    "\n",
    "criterion = FocalLoss()"
   ]
  },
  {
   "cell_type": "code",
   "execution_count": 21,
   "metadata": {},
   "outputs": [],
   "source": [
    "def train_batch(model, image, target):\n",
    "    \"\"\"\n",
    "    Perform one training batch iteration.\n",
    "\n",
    "    Args:\n",
    "        model (torch.nn.Module): The machine learning model to train.\n",
    "        image (torch.Tensor): Batch of input data (images).\n",
    "        target (torch.Tensor): Batch of target labels.\n",
    "\n",
    "    Returns:\n",
    "        torch.Tensor: Model output (predictions) for the batch.\n",
    "        torch.Tensor: Loss value calculated by the defined loss function loss_fn().\n",
    "    \"\"\"\n",
    "    \n",
    "    ##################### Write your answer here ##################\n",
    "    model.train()\n",
    "    output = model(image)\n",
    "    loss = criterion(output,target)\n",
    "    ###############################################################\n",
    "\n",
    "    return output, loss"
   ]
  },
  {
   "cell_type": "code",
   "execution_count": 22,
   "metadata": {},
   "outputs": [],
   "source": [
    "\n",
    "def test_batch(model, image, target):\n",
    "    \"\"\"\n",
    "    Perform one testing batch iteration.\n",
    "\n",
    "    Args:\n",
    "        model (torch.nn.Module): The machine learning model to evaluate.\n",
    "        image (torch.Tensor): Batch of input data (images).\n",
    "        target (torch.Tensor): Batch of target labels.\n",
    "\n",
    "    Returns:\n",
    "        torch.Tensor: Model output (predictions) for the batch.\n",
    "        torch.Tensor: Loss value calculated for the batch.\n",
    "    \"\"\"\n",
    "\n",
    "    ##################### Write your answer here ##################\n",
    "    output = model(image)\n",
    "    loss = criterion(output,target)\n",
    "    ###############################################################\n",
    "\n",
    "    return output, loss"
   ]
  },
  {
   "cell_type": "markdown",
   "metadata": {},
   "source": [
    "### Model Training"
   ]
  },
  {
   "cell_type": "code",
   "execution_count": 23,
   "metadata": {},
   "outputs": [
    {
     "name": "stdout",
     "output_type": "stream",
     "text": [
      "Epoch: 1/30 Train Loss: 0.0143 Acc: 0.2920\n",
      "Begin test......\n",
      "Test Loss: 0.0107 Acc: 0.4321\n",
      "Epoch: 2/30 Train Loss: 0.0110 Acc: 0.4128\n",
      "Begin test......\n",
      "Test Loss: 0.0099 Acc: 0.4733\n",
      "Epoch: 3/30 Train Loss: 0.0101 Acc: 0.4500\n",
      "Begin test......\n",
      "Test Loss: 0.0086 Acc: 0.5155\n",
      "Epoch: 4/30 Train Loss: 0.0098 Acc: 0.4691\n",
      "Begin test......\n",
      "Test Loss: 0.0087 Acc: 0.5179\n",
      "Epoch: 5/30 Train Loss: 0.0095 Acc: 0.4820\n",
      "Begin test......\n",
      "Test Loss: 0.0089 Acc: 0.5096\n",
      "Epoch: 6/30 Train Loss: 0.0090 Acc: 0.5038\n",
      "Begin test......\n",
      "Test Loss: 0.0079 Acc: 0.5559\n",
      "Epoch: 7/30 Train Loss: 0.0089 Acc: 0.5114\n",
      "Begin test......\n",
      "Test Loss: 0.0079 Acc: 0.5538\n",
      "Epoch: 8/30 Train Loss: 0.0088 Acc: 0.5166\n",
      "Begin test......\n",
      "Test Loss: 0.0078 Acc: 0.5600\n",
      "Epoch: 9/30 Train Loss: 0.0087 Acc: 0.5197\n",
      "Begin test......\n",
      "Test Loss: 0.0076 Acc: 0.5695\n",
      "Epoch: 10/30 Train Loss: 0.0087 Acc: 0.5194\n",
      "Begin test......\n",
      "Test Loss: 0.0077 Acc: 0.5673\n",
      "Epoch: 11/30 Train Loss: 0.0084 Acc: 0.5378\n",
      "Begin test......\n",
      "Test Loss: 0.0075 Acc: 0.5776\n",
      "Epoch: 12/30 Train Loss: 0.0083 Acc: 0.5386\n",
      "Begin test......\n",
      "Test Loss: 0.0074 Acc: 0.5774\n",
      "Epoch: 13/30 Train Loss: 0.0083 Acc: 0.5369\n",
      "Begin test......\n",
      "Test Loss: 0.0074 Acc: 0.5817\n",
      "Epoch: 14/30 Train Loss: 0.0083 Acc: 0.5388\n",
      "Begin test......\n",
      "Test Loss: 0.0073 Acc: 0.5848\n",
      "Epoch: 15/30 Train Loss: 0.0082 Acc: 0.5419\n",
      "Begin test......\n",
      "Test Loss: 0.0075 Acc: 0.5815\n",
      "Epoch: 16/30 Train Loss: 0.0081 Acc: 0.5487\n",
      "Begin test......\n",
      "Test Loss: 0.0072 Acc: 0.5889\n",
      "Epoch: 17/30 Train Loss: 0.0080 Acc: 0.5486\n",
      "Begin test......\n",
      "Test Loss: 0.0073 Acc: 0.5865\n",
      "Epoch: 18/30 Train Loss: 0.0080 Acc: 0.5494\n",
      "Begin test......\n",
      "Test Loss: 0.0072 Acc: 0.5902\n",
      "Epoch: 19/30 Train Loss: 0.0081 Acc: 0.5486\n",
      "Begin test......\n",
      "Test Loss: 0.0073 Acc: 0.5795\n",
      "Epoch: 20/30 Train Loss: 0.0080 Acc: 0.5504\n",
      "Begin test......\n",
      "Test Loss: 0.0073 Acc: 0.5872\n",
      "Epoch: 21/30 Train Loss: 0.0079 Acc: 0.5556\n",
      "Begin test......\n",
      "Test Loss: 0.0071 Acc: 0.5893\n",
      "Epoch: 22/30 Train Loss: 0.0079 Acc: 0.5584\n",
      "Begin test......\n",
      "Test Loss: 0.0071 Acc: 0.5933\n",
      "Epoch: 23/30 Train Loss: 0.0079 Acc: 0.5566\n",
      "Begin test......\n",
      "Test Loss: 0.0071 Acc: 0.5973\n",
      "Epoch: 24/30 Train Loss: 0.0079 Acc: 0.5571\n",
      "Begin test......\n",
      "Test Loss: 0.0071 Acc: 0.5980\n",
      "Epoch: 25/30 Train Loss: 0.0079 Acc: 0.5575\n",
      "Begin test......\n",
      "Test Loss: 0.0070 Acc: 0.5980\n",
      "Epoch: 26/30 Train Loss: 0.0078 Acc: 0.5572\n",
      "Begin test......\n",
      "Test Loss: 0.0070 Acc: 0.5986\n",
      "Epoch: 27/30 Train Loss: 0.0078 Acc: 0.5616\n",
      "Begin test......\n",
      "Test Loss: 0.0070 Acc: 0.6007\n",
      "Epoch: 28/30 Train Loss: 0.0078 Acc: 0.5609\n",
      "Begin test......\n",
      "Test Loss: 0.0070 Acc: 0.6001\n",
      "Epoch: 29/30 Train Loss: 0.0078 Acc: 0.5620\n",
      "Begin test......\n",
      "Test Loss: 0.0071 Acc: 0.5964\n",
      "Epoch: 30/30 Train Loss: 0.0078 Acc: 0.5609\n",
      "Begin test......\n",
      "Test Loss: 0.0070 Acc: 0.6004\n"
     ]
    }
   ],
   "source": [
    "training_loss = []\n",
    "training_acc = []\n",
    "testing_loss = []\n",
    "testing_acc = []\n",
    "\n",
    "for epoch in range(NUM_EPOCHS):\n",
    "    model.train()\n",
    "    torch.cuda.empty_cache()\n",
    "\n",
    "    ##########################\n",
    "    ### Training\n",
    "    ##########################\n",
    "\n",
    "    running_cls_loss = 0.0\n",
    "    running_cls_corrects = 0\n",
    "\n",
    "    for batch_idx, (image, target) in enumerate(train_dataloader):\n",
    "\n",
    "        image = image.to(device)\n",
    "        target = target.to(device)\n",
    "\n",
    "        # train model\n",
    "        outputs, loss = train_batch(model, image, target)\n",
    "        _, preds = torch.max(outputs, 1)\n",
    "\n",
    "        \n",
    "        loss_data = loss.data.item()\n",
    "        if np.isnan(loss_data):\n",
    "            raise ValueError('loss is nan while training')\n",
    "        running_cls_loss += loss.item()\n",
    "        running_cls_corrects += torch.sum(preds == target.data)\n",
    "\n",
    "        loss.backward()\n",
    "        optimizer.step()\n",
    "        optimizer.zero_grad()\n",
    "\n",
    "    epoch_loss = running_cls_loss / len(train_set)\n",
    "    epoch_acc = running_cls_corrects.double() / len(train_set)\n",
    "\n",
    "    print(f'Epoch: {epoch+1}/{NUM_EPOCHS} Train Loss: {epoch_loss:.4f} Acc: {epoch_acc:.4f}')\n",
    "\n",
    "    training_loss.append(epoch_loss)\n",
    "    training_acc.append(epoch_acc.cpu().detach().numpy())\n",
    "\n",
    "    # change learning rate\n",
    "    scheduler.step()\n",
    "\n",
    "\n",
    "    ##########################\n",
    "    ### Testing\n",
    "    ##########################\n",
    "    # # eval model during training or in the last epoch\n",
    "    if (epoch + 1) % EVAL_INTERVAL == 0 or (epoch +1) == NUM_EPOCHS:\n",
    "        print('Begin test......')\n",
    "        model.eval()\n",
    "    \n",
    "        val_loss = 0.0\n",
    "        val_corrects = 0\n",
    "\n",
    "        for batch_idx, (image, target) in enumerate(test_dataloader):\n",
    "\n",
    "            image = image.to(device)\n",
    "            target = target.to(device)\n",
    "\n",
    "            # test model\n",
    "            outputs, loss = test_batch(model, image, target)\n",
    "            _, preds = torch.max(outputs, 1)\n",
    "            \n",
    "            val_loss += loss.item()\n",
    "            val_corrects += torch.sum(preds == target.data)\n",
    "\n",
    "        val_loss = val_loss / len(test_set)\n",
    "        val_acc = val_corrects.double() / len(test_set)\n",
    "        print(f'Test Loss: {val_loss:.4f} Acc: {val_acc:.4f}')\n",
    "        testing_loss.append(val_loss)\n",
    "        testing_acc.append(val_acc.cpu().detach().numpy())\n",
    "\n",
    "        # save the model in last epoch\n",
    "        if (epoch +1) == NUM_EPOCHS:\n",
    "            \n",
    "            state = {\n",
    "            'state_dict': model.state_dict(),\n",
    "            'acc': epoch_acc,\n",
    "            'epoch': (epoch+1),\n",
    "            }\n",
    "\n",
    "            # check the dir\n",
    "            if not os.path.exists(SAVE_DIR):\n",
    "                os.makedirs(SAVE_DIR)\n",
    "\n",
    "            # save the state\n",
    "            torch.save(state, osp.join(SAVE_DIR, 'checkpoint_%s.pth' % (str(epoch+1))))"
   ]
  },
  {
   "cell_type": "code",
   "execution_count": 24,
   "metadata": {},
   "outputs": [
    {
     "data": {
      "image/png": "[encoded data removed]",
      "text/plain": [
       "<Figure size 640x480 with 1 Axes>"
      ]
     },
     "metadata": {},
     "output_type": "display_data"
    }
   ],
   "source": [
    "plt.plot(training_loss, label='training_loss', color='b', marker='o', linestyle='-',markersize=5)\n",
    "\n",
    "# 添加第二根线\n",
    "plt.plot(testing_loss, label='testing_loss', color='r', marker='s', linestyle='--',markersize=5)\n",
    "\n",
    "# 添加标签和标题\n",
    "plt.xlabel(\"epoch\")\n",
    "plt.ylabel(\"loss\")\n",
    "plt.title(\"loss of training and testing\")\n",
    "\n",
    "# 添加图例\n",
    "plt.legend(loc='upper right')\n",
    "\n",
    "plt.savefig(\"loss_Focal$1$2_0.01_30.png\",dpi=600)\n",
    "# 显示图形\n",
    "plt.show()"
   ]
  },
  {
   "cell_type": "code",
   "execution_count": 25,
   "metadata": {},
   "outputs": [
    {
     "data": {
      "image/png": "[encoded data removed]",
      "text/plain": [
       "<Figure size 640x480 with 1 Axes>"
      ]
     },
     "metadata": {},
     "output_type": "display_data"
    }
   ],
   "source": [
    "plt.plot(training_acc, label='training_acc', color='orange', marker='o', linestyle='-',markersize=5)\n",
    "\n",
    "# 添加第二根线\n",
    "plt.plot(testing_acc, label='testing_acc', color='g', marker='s', linestyle='--',markersize=5)\n",
    "\n",
    "# 添加标签和标题\n",
    "plt.xlabel(\"epoch\")\n",
    "plt.ylabel(\"accuracy\")\n",
    "plt.title(\"accuracy of training and testing\")\n",
    "\n",
    "# 添加图例\n",
    "plt.legend(loc='lower right')\n",
    "plt.savefig(\"accuracy_Focal$1$2_0.01_30.png\",dpi=600)\n",
    "# 显示图形\n",
    "plt.show()"
   ]
  }
 ],
 "metadata": {
  "kernelspec": {
   "display_name": "Python 3 (ipykernel)",
   "language": "python",
   "name": "python3"
  },
  "language_info": {
   "codemirror_mode": {
    "name": "ipython",
    "version": 3
   },
   "file_extension": ".py",
   "mimetype": "text/x-python",
   "name": "python",
   "nbconvert_exporter": "python",
   "pygments_lexer": "ipython3",
   "version": "3.10.12"
  }
 },
 "nbformat": 4,
 "nbformat_minor": 4
}
