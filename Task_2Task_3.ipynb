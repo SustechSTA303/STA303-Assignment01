{
 "cells": [
  {
   "cell_type": "markdown",
   "metadata": {},
   "source": [
    "# Exercise 02: Multi-class Classification \n",
    "In this exercise, you will train a deep model on the CIFAR10 from the scratch using PyTorch. The following tasks should be done:\n",
    "- Task 1: per batch training/testing\n",
    "- Task 2: Instance inference and visualization"
   ]
  },
  {
   "cell_type": "markdown",
   "metadata": {},
   "source": [
    "### Basic Imports"
   ]
  },
  {
   "cell_type": "code",
   "execution_count": 1,
   "metadata": {},
   "outputs": [],
   "source": [
    "import os\n",
    "import time\n",
    "import os.path as osp\n",
    "\n",
    "import numpy as np\n",
    "import pandas as pd\n",
    "\n",
    "import torch\n",
    "import torch.nn as nn\n",
    "import torch.nn.functional as F\n",
    "import torch.optim as optim\n",
    "from torch.utils.data import DataLoader\n",
    "\n",
    "from torchvision import datasets\n",
    "from torchvision import transforms\n",
    "import torchvision\n",
    "\n",
    "import matplotlib.pyplot as plt\n",
    "from PIL import Image"
   ]
  },
  {
   "cell_type": "markdown",
   "metadata": {},
   "source": [
    "### Hyperparameters"
   ]
  },
  {
   "cell_type": "code",
   "execution_count": 2,
   "metadata": {},
   "outputs": [],
   "source": [
    "# random seed\n",
    "SEED = 1 \n",
    "NUM_CLASS = 10\n",
    "\n",
    "# Training\n",
    "BATCH_SIZE = 128\n",
    "NUM_EPOCHS = 30\n",
    "EVAL_INTERVAL=1\n",
    "SAVE_DIR = './log'\n",
    "\n",
    "# Optimizer\n",
    "LEARNING_RATE = 1e-1\n",
    "MOMENTUM = 0.9\n",
    "STEP=5\n",
    "GAMMA=0.5\n"
   ]
  },
  {
   "cell_type": "markdown",
   "metadata": {},
   "source": [
    "### Device"
   ]
  },
  {
   "cell_type": "code",
   "execution_count": 3,
   "metadata": {},
   "outputs": [],
   "source": [
    "device = torch.device(\"cuda:0\" if torch.cuda.is_available() else \"cpu\")"
   ]
  },
  {
   "cell_type": "markdown",
   "metadata": {},
   "source": [
    "\n",
    "### Dataset\n"
   ]
  },
  {
   "cell_type": "code",
   "execution_count": 56,
   "metadata": {},
   "outputs": [
    {
     "name": "stdout",
     "output_type": "stream",
     "text": [
      "Files already downloaded and verified\n",
      "Files already downloaded and verified\n"
     ]
    }
   ],
   "source": [
    "# cifar10 transform\n",
    "transform_cifar10_train = transforms.Compose([\n",
    "    transforms.RandomCrop(32, padding=4),\n",
    "    transforms.RandomHorizontalFlip(),\n",
    "    transforms.ToTensor(),\n",
    "    transforms.Normalize((0.4914, 0.4822, 0.4465), (0.2023, 0.1994, 0.2010)),\n",
    "])\n",
    "\n",
    "transform_cifar10_test = transforms.Compose([\n",
    "    transforms.ToTensor(),\n",
    "    transforms.Normalize((0.4914, 0.4822, 0.4465), (0.2023, 0.1994, 0.2010)),\n",
    "])\n",
    "\n",
    "train_set = torchvision.datasets.CIFAR10(root='../data', train=True,\n",
    "                                        download=True, transform=transform_cifar10_train)\n",
    "train_dataloader = torch.utils.data.DataLoader(train_set, batch_size=BATCH_SIZE,\n",
    "                                          shuffle=True, num_workers=2)\n",
    "\n",
    "test_set = torchvision.datasets.CIFAR10(root='../data', train=False,\n",
    "                                       download=True, transform=transform_cifar10_test)\n",
    "test_dataloader = torch.utils.data.DataLoader(test_set, batch_size=BATCH_SIZE,\n",
    "                                         shuffle=False, num_workers=2)\n",
    "\n",
    "class_names = ['airplane', 'automobile', 'bird', 'cat', 'deer', 'dog', 'frog', 'horse', 'ship', 'truck']\n",
    "\n",
    "\n",
    "# 导入需要的库\n",
    "import random\n",
    "\n",
    "# 创建一个不平衡数据集\n",
    "imbalance_classes_train = ['airplane', 'automobile','bird', 'cat', 'deer', 'dog', 'frog']\n",
    "imbalance_classes_test = ['airplane', 'automobile','bird', 'cat', 'deer', 'dog', 'frog']\n",
    "imbalance_ratio_train = 10  # 训练集中多数类别相对于少数类别的样本数量倍数\n",
    "imbalance_ratio_test = 10   # 测试集中多数类别相对于少数类别的样本数量倍数\n",
    "\n",
    "# 创建一个空的训练集和测试集\n",
    "imbalanced_train_set = []\n",
    "imbalanced_test_set = []\n",
    "\n",
    "# 遍历每个类别，根据需要复制样本\n",
    "for class_name in class_names:\n",
    "    class_idx = class_names.index(class_name)\n",
    "    train_samples = [i for i in range(len(train_set)) if train_set[i][1] == class_idx]\n",
    "    test_samples = [i for i in range(len(test_set)) if test_set[i][1] == class_idx]\n",
    "    if class_name in imbalance_classes_train:\n",
    "        imbalanced_train_set.extend([train_set[i] for i in random.choices(train_samples, k=len(train_samples) * imbalance_ratio_train)])\n",
    "    else:\n",
    "        imbalanced_train_set.extend([train_set[i] for i in train_samples])\n",
    "    if class_name in imbalance_classes_test:\n",
    "        imbalanced_test_set.extend([test_set[i] for i in random.choices(test_samples, k=len(test_samples) * imbalance_ratio_test)])\n",
    "    else:\n",
    "        imbalanced_test_set.extend([test_set[i] for i in test_samples])\n",
    "\n",
    "# 创建自定义数据加载器\n",
    "imbalanced_train_dataloader = DataLoader(imbalanced_train_set, batch_size=BATCH_SIZE, shuffle=True, num_workers=2)\n",
    "imbalanced_test_dataloader = DataLoader(imbalanced_test_set, batch_size=BATCH_SIZE, shuffle=False, num_workers=2)\n",
    "\n"
   ]
  },
  {
   "cell_type": "markdown",
   "metadata": {},
   "source": [
    "### Model"
   ]
  },
  {
   "cell_type": "code",
   "execution_count": 68,
   "metadata": {},
   "outputs": [],
   "source": [
    "class ConvNet(nn.Module):\n",
    "    def __init__(self):\n",
    "        super(ConvNet, self).__init__()\n",
    "        self.conv1 = nn.Conv2d(3, 4, 3)  \n",
    "        self.pool = nn.MaxPool2d(2, 2)\n",
    "        self.conv2 = nn.Conv2d(4, 8, 3)  \n",
    "        self.fc1 = nn.Linear(8 * 6 * 6, 32)\n",
    "        self.fc2 = nn.Linear(32, 10)\n",
    "\n",
    "    def forward(self, x):\n",
    "        x = self.pool(torch.relu(self.conv1(x)))\n",
    "        x = self.pool(torch.relu(self.conv2(x)))\n",
    "        x = x.view(-1, 8 * 6 * 6)\n",
    "        x = torch.relu(self.fc1(x))\n",
    "        x = self.fc2(x)\n",
    "        return x"
   ]
  },
  {
   "cell_type": "code",
   "execution_count": 69,
   "metadata": {},
   "outputs": [
    {
     "data": {
      "text/plain": [
       "ConvNet(\n",
       "  (conv1): Conv2d(3, 4, kernel_size=(3, 3), stride=(1, 1))\n",
       "  (pool): MaxPool2d(kernel_size=2, stride=2, padding=0, dilation=1, ceil_mode=False)\n",
       "  (conv2): Conv2d(4, 8, kernel_size=(3, 3), stride=(1, 1))\n",
       "  (fc1): Linear(in_features=288, out_features=32, bias=True)\n",
       "  (fc2): Linear(in_features=32, out_features=10, bias=True)\n",
       ")"
      ]
     },
     "execution_count": 69,
     "metadata": {},
     "output_type": "execute_result"
    }
   ],
   "source": [
    "model = ConvNet()\n",
    "model.to(device)"
   ]
  },
  {
   "cell_type": "markdown",
   "metadata": {},
   "source": [
    "### Optimizer"
   ]
  },
  {
   "cell_type": "code",
   "execution_count": 70,
   "metadata": {},
   "outputs": [],
   "source": [
    "optimizer = optim.SGD(model.parameters(), lr=LEARNING_RATE, momentum=MOMENTUM)\n",
    "\n",
    "scheduler = torch.optim.lr_scheduler.StepLR(optimizer, step_size=STEP, gamma=GAMMA)"
   ]
  },
  {
   "cell_type": "markdown",
   "metadata": {},
   "source": [
    "### Task 1: per batch training/testing\n",
    "---\n",
    "\n",
    "Please denfine two function named ``train_batch`` and ``test_batch``. These functions are essential for training and evaluating machine learning models using batched data from dataloaders.\n",
    "\n",
    "**To do**: \n",
    "1. Define the loss function i.e [nn.CrossEntropyLoss()](https://pytorch.org/docs/stable/generated/torch.nn.CrossEntropyLoss.html).\n",
    "2. Take the image as the input and generate the output using the pre-defined SimpleNet.\n",
    "3. Calculate the loss between the output and the corresponding label using the loss function.\n"
   ]
  },
  {
   "cell_type": "code",
   "execution_count": 71,
   "metadata": {},
   "outputs": [],
   "source": [
    "class FocalLoss(nn.Module):\n",
    "\n",
    "    def __init__(self, weight=None, reduction='mean', gamma=0.5, eps=1e-7):\n",
    "        super(FocalLoss, self).__init__()\n",
    "        self.gamma = gamma\n",
    "        self.eps = eps\n",
    "        self.ce = torch.nn.CrossEntropyLoss(weight=weight, reduction=reduction)\n",
    "\n",
    "    def forward(self, input, target):\n",
    "        logp = self.ce(input, target)\n",
    "        p = torch.exp(-logp)\n",
    "        loss = (1 - p) ** self.gamma * logp\n",
    "        return loss.mean()"
   ]
  },
  {
   "cell_type": "code",
   "execution_count": 72,
   "metadata": {},
   "outputs": [],
   "source": [
    "##################### Write your answer here ##################\n",
    "# Define the loss function\n",
    "criterion = FocalLoss()\n",
    "\n",
    "#criterion=nn.CrossEntropyLoss()\n",
    "###############################################################"
   ]
  },
  {
   "cell_type": "code",
   "execution_count": 73,
   "metadata": {},
   "outputs": [],
   "source": [
    "def train_batch(model, image, target):\n",
    "    \"\"\"\n",
    "    Perform one training batch iteration.\n",
    "\n",
    "    Args:\n",
    "        model (torch.nn.Module): The machine learning model to train.\n",
    "        image (torch.Tensor): Batch of input data (images).\n",
    "        target (torch.Tensor): Batch of target labels.\n",
    "\n",
    "    Returns:\n",
    "        torch.Tensor: Model output (predictions) for the batch.\n",
    "        torch.Tensor: Loss value calculated by the defined loss function loss_fn().\n",
    "    \"\"\"\n",
    "    \n",
    "    ##################### Write your answer here ##################\n",
    "    output = model(image)\n",
    "    loss = criterion(output, target)\n",
    "    ###############################################################\n",
    "\n",
    "    return output, loss"
   ]
  },
  {
   "cell_type": "code",
   "execution_count": 74,
   "metadata": {},
   "outputs": [],
   "source": [
    "\n",
    "def test_batch(model, image, target):\n",
    "    \"\"\"\n",
    "    Perform one testing batch iteration.\n",
    "\n",
    "    Args:\n",
    "        model (torch.nn.Module): The machine learning model to evaluate.\n",
    "        image (torch.Tensor): Batch of input data (images).\n",
    "        target (torch.Tensor): Batch of target labels.\n",
    "\n",
    "    Returns:\n",
    "        torch.Tensor: Model output (predictions) for the batch.\n",
    "        torch.Tensor: Loss value calculated for the batch.\n",
    "    \"\"\"\n",
    "\n",
    "    ##################### Write your answer here ##################\n",
    "    output = model(image)\n",
    "    loss = criterion(output, target)\n",
    "    ###############################################################\n",
    "\n",
    "    return output, loss"
   ]
  },
  {
   "cell_type": "code",
   "execution_count": 75,
   "metadata": {},
   "outputs": [],
   "source": [
    "# state = {\n",
    "#             'state_dict': model.state_dict(),\n",
    "#             'acc': epoch_acc,\n",
    "#             'epoch': (epoch+1),\n",
    "#             }\n",
    "\n",
    "#             # check the dir\n",
    "# if not os.path.exists(SAVE_DIR):\n",
    "#     os.makedirs(SAVE_DIR)\n",
    "\n",
    "#             # save the state\n",
    "# torch.save(state, osp.join(SAVE_DIR, 'checkpoint_%s.pth' % (str(epoch+1))))"
   ]
  },
  {
   "cell_type": "markdown",
   "metadata": {},
   "source": [
    "### Model Training"
   ]
  },
  {
   "cell_type": "code",
   "execution_count": 76,
   "metadata": {},
   "outputs": [
    {
     "name": "stdout",
     "output_type": "stream",
     "text": [
      "Epoch: 1/30 Train Loss: 0.0112 Acc: 0.0062\n",
      "Begin test......\n",
      "Test Loss: 0.0101 Acc: 0.0160\n",
      "Epoch: 2/30 Train Loss: 0.0106 Acc: 0.0162\n",
      "Begin test......\n",
      "Test Loss: 0.0104 Acc: 0.0160\n",
      "Epoch: 3/30 Train Loss: 0.0105 Acc: 0.0122\n",
      "Begin test......\n",
      "Test Loss: 0.0104 Acc: 0.0240\n",
      "Epoch: 4/30 Train Loss: 0.0106 Acc: 0.0094\n",
      "Begin test......\n",
      "Test Loss: 0.0102 Acc: 0.0000\n",
      "Epoch: 5/30 Train Loss: 0.0105 Acc: 0.0118\n",
      "Begin test......\n",
      "Test Loss: 0.0102 Acc: 0.0040\n",
      "Epoch: 6/30 Train Loss: 0.0095 Acc: 0.0242\n",
      "Begin test......\n",
      "Test Loss: 0.0088 Acc: 0.0539\n",
      "Epoch: 7/30 Train Loss: 0.0093 Acc: 0.0290\n",
      "Begin test......\n",
      "Test Loss: 0.0088 Acc: 0.0050\n",
      "Epoch: 8/30 Train Loss: 0.0093 Acc: 0.0282\n",
      "Begin test......\n",
      "Test Loss: 0.0089 Acc: 0.0180\n",
      "Epoch: 9/30 Train Loss: 0.0093 Acc: 0.0356\n",
      "Begin test......\n",
      "Test Loss: 0.0089 Acc: 0.1169\n",
      "Epoch: 10/30 Train Loss: 0.0092 Acc: 0.0390\n",
      "Begin test......\n",
      "Test Loss: 0.0091 Acc: 0.0779\n",
      "Epoch: 11/30 Train Loss: 0.0086 Acc: 0.0598\n",
      "Begin test......\n",
      "Test Loss: 0.0080 Acc: 0.1149\n",
      "Epoch: 12/30 Train Loss: 0.0085 Acc: 0.0546\n",
      "Begin test......\n",
      "Test Loss: 0.0080 Acc: 0.1399\n",
      "Epoch: 13/30 Train Loss: 0.0085 Acc: 0.0596\n",
      "Begin test......\n",
      "Test Loss: 0.0082 Acc: 0.1738\n",
      "Epoch: 14/30 Train Loss: 0.0084 Acc: 0.0584\n",
      "Begin test......\n",
      "Test Loss: 0.0082 Acc: 0.0629\n",
      "Epoch: 15/30 Train Loss: 0.0084 Acc: 0.0614\n",
      "Begin test......\n",
      "Test Loss: 0.0078 Acc: 0.0010\n",
      "Epoch: 16/30 Train Loss: 0.0079 Acc: 0.0756\n",
      "Begin test......\n",
      "Test Loss: 0.0076 Acc: 0.1199\n",
      "Epoch: 17/30 Train Loss: 0.0079 Acc: 0.0776\n",
      "Begin test......\n",
      "Test Loss: 0.0077 Acc: 0.1149\n",
      "Epoch: 18/30 Train Loss: 0.0079 Acc: 0.0790\n",
      "Begin test......\n",
      "Test Loss: 0.0075 Acc: 0.2008\n",
      "Epoch: 19/30 Train Loss: 0.0078 Acc: 0.0802\n",
      "Begin test......\n",
      "Test Loss: 0.0077 Acc: 0.1179\n",
      "Epoch: 20/30 Train Loss: 0.0078 Acc: 0.0818\n",
      "Begin test......\n",
      "Test Loss: 0.0075 Acc: 0.1918\n",
      "Epoch: 21/30 Train Loss: 0.0076 Acc: 0.0862\n",
      "Begin test......\n",
      "Test Loss: 0.0074 Acc: 0.1538\n",
      "Epoch: 22/30 Train Loss: 0.0075 Acc: 0.0854\n",
      "Begin test......\n",
      "Test Loss: 0.0072 Acc: 0.1339\n",
      "Epoch: 23/30 Train Loss: 0.0075 Acc: 0.0860\n",
      "Begin test......\n",
      "Test Loss: 0.0072 Acc: 0.1688\n",
      "Epoch: 24/30 Train Loss: 0.0075 Acc: 0.0928\n",
      "Begin test......\n",
      "Test Loss: 0.0072 Acc: 0.1558\n",
      "Epoch: 25/30 Train Loss: 0.0075 Acc: 0.0936\n",
      "Begin test......\n",
      "Test Loss: 0.0073 Acc: 0.1329\n",
      "Epoch: 26/30 Train Loss: 0.0073 Acc: 0.0976\n",
      "Begin test......\n",
      "Test Loss: 0.0071 Acc: 0.1139\n",
      "Epoch: 27/30 Train Loss: 0.0073 Acc: 0.0964\n",
      "Begin test......\n",
      "Test Loss: 0.0071 Acc: 0.1758\n",
      "Epoch: 28/30 Train Loss: 0.0073 Acc: 0.0972\n",
      "Begin test......\n",
      "Test Loss: 0.0071 Acc: 0.0739\n",
      "Epoch: 29/30 Train Loss: 0.0073 Acc: 0.0946\n",
      "Begin test......\n",
      "Test Loss: 0.0070 Acc: 0.1868\n",
      "Epoch: 30/30 Train Loss: 0.0073 Acc: 0.1022\n",
      "Begin test......\n",
      "Test Loss: 0.0070 Acc: 0.1269\n"
     ]
    }
   ],
   "source": [
    "training_loss = []\n",
    "training_acc = []\n",
    "testing_loss = []\n",
    "testing_acc = []\n",
    "filt = torch.full((128,), 7).to(device)\n",
    "\n",
    "\n",
    "for epoch in range(NUM_EPOCHS):\n",
    "    model.train()\n",
    "    torch.cuda.empty_cache()\n",
    "\n",
    "    ##########################\n",
    "    ### Training\n",
    "    ##########################\n",
    "\n",
    "    running_cls_loss = 0.0\n",
    "    running_cls_corrects = 0\n",
    "    all_7num=0\n",
    "\n",
    "    for batch_idx, (image, target) in enumerate(imbalanced_train_dataloader):\n",
    "\n",
    "        image = image.to(device)\n",
    "        target = target.to(device)\n",
    "\n",
    "        # train model\n",
    "        outputs, loss = train_batch(model, image, target)\n",
    "        _, preds = torch.max(outputs, 1)\n",
    "        \n",
    "        #print(preds)\n",
    "        #print(target.data)\n",
    "        \n",
    "        loss_data = loss.data.item()\n",
    "        if np.isnan(loss_data):\n",
    "            raise ValueError('loss is nan while training')\n",
    "        running_cls_loss += loss.item()\n",
    "        \n",
    "        equal_sevens_positions = (preds == 7) & (target.data == 7)\n",
    "        all_7=(target.data==7)\n",
    "        all_7num += torch.sum(all_7).item()\n",
    "       # print(all_7num)\n",
    "        running_cls_corrects += torch.sum(equal_sevens_positions).item()\n",
    "       # print(running_cls_corrects)\n",
    "       # running_cls_corrects += torch.sum((preds == target.data)&(preds==filt))\n",
    "      \n",
    "        loss.backward()\n",
    "        optimizer.step()\n",
    "        optimizer.zero_grad()\n",
    "    epoch_loss = running_cls_loss / len(imbalanced_train_set)\n",
    "    epoch_acc = running_cls_corrects / all_7num\n",
    "\n",
    "    print(f'Epoch: {epoch+1}/{NUM_EPOCHS} Train Loss: {epoch_loss:.4f} Acc: {epoch_acc:.4f}')\n",
    "\n",
    "    training_loss.append(epoch_loss)\n",
    "    training_acc.append(epoch_acc)\n",
    "\n",
    "    # change learning rate\n",
    "    scheduler.step()\n",
    "    \n",
    "\n",
    "\n",
    "    ##########################\n",
    "    ### Testing\n",
    "    ##########################\n",
    "    # # eval model during training or in the last epoch\n",
    "    if (epoch + 1) % EVAL_INTERVAL == 0 or (epoch +1) == NUM_EPOCHS:\n",
    "        print('Begin test......')\n",
    "        model.eval()\n",
    "    \n",
    "        val_loss = 0.0\n",
    "        val_correct = 0\n",
    "        all_7num2=1\n",
    "\n",
    "        for batch_idx, (image, target) in enumerate(imbalanced_test_dataloader):\n",
    "\n",
    "            image = image.to(device)\n",
    "            target = target.to(device)\n",
    "\n",
    "            # test model\n",
    "            outputs, loss = test_batch(model, image, target)\n",
    "            _, preds = torch.max(outputs, 1)\n",
    "            \n",
    "            val_loss += loss.item()\n",
    "            \n",
    "#             val_corrects += torch.sum(preds == target.data==7)\n",
    "            equal_sevens_positions2 = (preds == 7) & (target.data == 7)\n",
    "            all_7_2=(target.data==7)\n",
    "            all_7num2 += torch.sum(all_7_2).item()\n",
    "        #print(all_7num)\n",
    "            val_correct += torch.sum(equal_sevens_positions2).item()\n",
    "       # print(running_cls_corrects)\n",
    "\n",
    "        val_loss = val_loss / len(imbalanced_test_set)\n",
    "        val_acc = val_correct / all_7num2\n",
    "        print(f'Test Loss: {val_loss:.4f} Acc: {val_acc:.4f}')\n",
    "        testing_loss.append(val_loss)\n",
    "        testing_acc.append(val_acc)\n",
    "\n",
    "#         save the model in last epoch\n",
    "        if (epoch +1) == NUM_EPOCHS:\n",
    "            \n",
    "            state = {\n",
    "            'state_dict': model.state_dict(),\n",
    "            'acc': epoch_acc,\n",
    "            'epoch': (epoch+1),\n",
    "            }\n",
    "\n",
    "            # check the dir\n",
    "            if not os.path.exists(SAVE_DIR):\n",
    "                os.makedirs(SAVE_DIR)\n",
    "\n",
    "            # save the state\n",
    "            torch.save(state, osp.join(SAVE_DIR, 'checkpoint_%s.pth' % (str(epoch+1))))"
   ]
  },
  {
   "cell_type": "code",
   "execution_count": 77,
   "metadata": {},
   "outputs": [
    {
     "data": {
      "text/plain": [
       "Text(0, 0.5, 'acc')"
      ]
     },
     "execution_count": 77,
     "metadata": {},
     "output_type": "execute_result"
    },
    {
     "data": {
      "image/png": "[encoded data removed]",
      "text/plain": [
       "<Figure size 640x480 with 1 Axes>"
      ]
     },
     "metadata": {},
     "output_type": "display_data"
    }
   ],
   "source": [
    "x = torch.linspace(0, 35,NUM_EPOCHS)\n",
    "plt.figure()\n",
    "plt.title('acc vs epoch')\n",
    "plt.plot(x, testing_acc, linestyle='-', color='b',label=\"L1 ts\")\n",
    "plt.xlabel('epoch')\n",
    "plt.ylabel('acc')"
   ]
  },
  {
   "cell_type": "code",
   "execution_count": null,
   "metadata": {},
   "outputs": [],
   "source": [
    "# training_loss = []\n",
    "# training_acc = []\n",
    "# testing_loss = []\n",
    "# testing_acc = []\n",
    "\n",
    "# for epoch in range(NUM_EPOCHS):\n",
    "#     model.train()\n",
    "#     torch.cuda.empty_cache()\n",
    "\n",
    "#     ##########################\n",
    "#     ### Training\n",
    "#     ##########################\n",
    "\n",
    "#     running_cls_loss = 0.0\n",
    "#     running_cls_corrects = 0\n",
    "\n",
    "#     for batch_idx, (image, target) in enumerate(train_dataloader):\n",
    "\n",
    "#         image = image.to(device)\n",
    "#         target = target.to(device)\n",
    "\n",
    "#         # train model\n",
    "#         outputs, loss = train_batch(model, image, target)\n",
    "#         _, preds = torch.max(outputs, 1)\n",
    "\n",
    "        \n",
    "#         loss_data = loss.data.item()\n",
    "#         if np.isnan(loss_data):\n",
    "#             raise ValueError('loss is nan while training')\n",
    "#         running_cls_loss += loss.item()\n",
    "#         running_cls_corrects += torch.sum(preds == target.data)\n",
    "\n",
    "#         loss.backward()\n",
    "#         optimizer.step()\n",
    "#         optimizer.zero_grad()\n",
    "\n",
    "#     epoch_loss = running_cls_loss / len(train_set)\n",
    "#     epoch_acc = running_cls_corrects.double() / len(train_set)\n",
    "\n",
    "#     print(f'Epoch: {epoch+1}/{NUM_EPOCHS} Train Loss: {epoch_loss:.4f} Acc: {epoch_acc:.4f}')\n",
    "\n",
    "#     training_loss.append(epoch_loss)\n",
    "#     training_acc.append(epoch_acc.cpu().detach().numpy())\n",
    "\n",
    "#     # change learning rate\n",
    "#     scheduler.step()\n",
    "\n",
    "\n",
    "#     ##########################\n",
    "#     ### Testing\n",
    "#     ##########################\n",
    "#     # # eval model during training or in the last epoch\n",
    "#     if (epoch + 1) % EVAL_INTERVAL == 0 or (epoch +1) == NUM_EPOCHS:\n",
    "#         print('Begin test......')\n",
    "#         model.eval()\n",
    "    \n",
    "#         val_loss = 0.0\n",
    "#         val_corrects = 0\n",
    "\n",
    "#         for batch_idx, (image, target) in enumerate(test_dataloader):\n",
    "\n",
    "#             image = image.to(device)\n",
    "#             target = target.to(device)\n",
    "\n",
    "#             # test model\n",
    "#             outputs, loss = test_batch(model, image, target)\n",
    "#             _, preds = torch.max(outputs, 1)\n",
    "            \n",
    "#             val_loss += loss.item()\n",
    "#             val_corrects += torch.sum(preds == target.data)\n",
    "\n",
    "#         val_loss = val_loss / len(test_set)\n",
    "#         val_acc = val_corrects.double() / len(test_set)\n",
    "#         print(f'Test Loss: {val_loss:.4f} Acc: {val_acc:.4f}')\n",
    "#         testing_loss.append(val_loss)\n",
    "#         testing_acc.append(val_acc.cpu().detach().numpy())\n",
    "\n",
    "#         # save the model in last epoch\n",
    "#         if (epoch +1) == NUM_EPOCHS:\n",
    "            \n",
    "#             state = {\n",
    "#             'state_dict': model.state_dict(),\n",
    "#             'acc': epoch_acc,\n",
    "#             'epoch': (epoch+1),\n",
    "#             }\n",
    "\n",
    "#             # check the dir\n",
    "#             if not os.path.exists(SAVE_DIR):\n",
    "#                 os.makedirs(SAVE_DIR)\n",
    "\n",
    "#             # save the state\n",
    "#             torch.save(state, osp.join(SAVE_DIR, 'checkpoint_%s.pth' % (str(epoch+1))))"
   ]
  },
  {
   "cell_type": "markdown",
   "metadata": {},
   "source": [
    "### Task 2: Instance inference\n",
    "---\n",
    "The task is to visualizes an image along with model prediction and class probabilities.\n",
    "\n",
    "**To do**: \n",
    "1. Calculate the prediction and the probabilities for each class.\n",
    "         "
   ]
  },
  {
   "cell_type": "code",
   "execution_count": 42,
   "metadata": {},
   "outputs": [],
   "source": [
    "inputs, classes = next(iter(test_dataloader))\n",
    "input = inputs[0]"
   ]
  },
  {
   "cell_type": "code",
   "execution_count": 45,
   "metadata": {},
   "outputs": [],
   "source": [
    "##################### Write your answer here ##################\n",
    "# input: image, model\n",
    "# outputs: predict_label, probabilities\n",
    "# predict_label is the index (or label) of the class with the highest probability from the probabilities.\n",
    "\n",
    "###############################################################\n",
    "output = model(input.to(device))[0]\n",
    "probabilities = F.softmax(output, dim=0)\n",
    "\n",
    "predict_label = torch.argmax(probabilities)"
   ]
  },
  {
   "cell_type": "code",
   "execution_count": 46,
   "metadata": {},
   "outputs": [
    {
     "name": "stderr",
     "output_type": "stream",
     "text": [
      "Clipping input data to the valid range for imshow with RGB data ([0..1] for floats or [0..255] for integers).\n"
     ]
    },
    {
     "data": {
      "image/png": "[encoded data removed]",
      "text/plain": [
       "<Figure size 640x480 with 1 Axes>"
      ]
     },
     "metadata": {},
     "output_type": "display_data"
    },
    {
     "name": "stdout",
     "output_type": "stream",
     "text": [
      "Print probabilities for each class:\n",
      "airplane: 0.0195\n",
      "automobile: 0.0306\n",
      "bird: 0.0476\n",
      "cat: 0.4104\n",
      "deer: 0.0231\n",
      "dog: 0.1467\n",
      "frog: 0.0628\n",
      "horse: 0.1602\n",
      "ship: 0.0858\n",
      "truck: 0.0132\n"
     ]
    }
   ],
   "source": [
    "predicted_class = class_names[predict_label.item()]\n",
    "predicted_probability = probabilities[predict_label].item()\n",
    "image = input.numpy().transpose((1, 2, 0))\n",
    "plt.imshow(image)\n",
    "plt.text(17, 30, f'Predicted Class: {predicted_class}\\nProbability: {predicted_probability:.2f}', \n",
    "            color='white', backgroundcolor='black', fontsize=8)\n",
    "plt.show()\n",
    "\n",
    "# Print probabilities for each class\n",
    "print('Print probabilities for each class:')\n",
    "for i in range(len(class_names)):\n",
    "    print(f'{class_names[i]}: {probabilities[i].item():.4f}')"
   ]
  },
  {
   "cell_type": "code",
   "execution_count": null,
   "metadata": {},
   "outputs": [],
   "source": []
  }
 ],
 "metadata": {
  "kernelspec": {
   "display_name": "Python 3 (ipykernel)",
   "language": "python",
   "name": "python3"
  },
  "language_info": {
   "codemirror_mode": {
    "name": "ipython",
    "version": 3
   },
   "file_extension": ".py",
   "mimetype": "text/x-python",
   "name": "python",
   "nbconvert_exporter": "python",
   "pygments_lexer": "ipython3",
   "version": "3.10.12"
  }
 },
 "nbformat": 4,
 "nbformat_minor": 4
}
